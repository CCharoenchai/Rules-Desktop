{
 "cells": [
  {
   "cell_type": "code",
   "execution_count": 114,
   "metadata": {},
   "outputs": [],
   "source": [
    "import pandas as pd \n",
    "import os\n",
    "# import pyodbc\n",
    "import datetime\n",
    "from datetime import datetime \n",
    "import warnings"
   ]
  },
  {
   "cell_type": "code",
   "execution_count": 115,
   "metadata": {},
   "outputs": [],
   "source": [
    "warnings.filterwarnings('ignore')"
   ]
  },
  {
   "cell_type": "markdown",
   "metadata": {},
   "source": [
    "#### ส่วนจัดการข้อมูล"
   ]
  },
  {
   "cell_type": "code",
   "execution_count": 116,
   "metadata": {},
   "outputs": [],
   "source": [
    "#เปลี่ยน path\n",
    "path = r'C:\\Users\\charoenchai.chu\\Desktop\\Rules\\RULE-4\\461'\n",
    "path00 = r'C:\\Users\\charoenchai.chu\\Desktop\\Rules\\RULE-4'\n",
    "file_name00 = '461'\n",
    "\n",
    "file_path00 = os.path.join(path00, file_name00 + '.xlsx')\n",
    "df=pd.read_excel(file_path00 , skiprows= 4)\n",
    "df['รหัสสาขา'] = file_name00"
   ]
  },
  {
   "cell_type": "code",
   "execution_count": 117,
   "metadata": {},
   "outputs": [],
   "source": [
    "# #เปลี่ยน path\n",
    "# # path = r'C:\\Users\\charoenchai.chu\\Desktop\\test'\n",
    "# file_name01 = '422'\n",
    "\n",
    "# file_path01 = os.path.join(path, file_name01 + '.xlsx')\n",
    "# df1=pd.read_excel(file_path01 , skiprows= 4)\n",
    "# df1['รหัสสาขา'] = file_name01"
   ]
  },
  {
   "cell_type": "code",
   "execution_count": 118,
   "metadata": {},
   "outputs": [],
   "source": [
    "# ชือ่ field เดียวกันเอาข้อมุลมาต่อข้างล่าง\n",
    "# df = pd.concat([df0, df1], ignore_index=True)"
   ]
  },
  {
   "cell_type": "code",
   "execution_count": 119,
   "metadata": {},
   "outputs": [],
   "source": [
    "# ตั้งชื่อ field ใหม่ทั้งหมด\n",
    "new_column_names = ['ที่', 'กรมธรรม์', 'สถานะ', 'เงินค้ำ' ,'ชื่อ-สกุล', 'วันที่เปลี่ยนแปลงแก้ไข', 'สาขา', 'ชื่อ-สกุลผู้เปลี่ยน', 'ที่อยู่เดิม' ,'ไปรษณีย์เดิม',\n",
    "                    'โทรศัพท์เดิม', 'ที่อยู่ใหม่', 'ไปรษณีย์ใหม่' ,'โทรศัพท์ใหม่', 'งวดชำระถึง', 'วันเดือนปีที่ชำระ', 'งวดครบชำระ', 'วันเดือนปี','จำนวนเงิน' ,'ประเภท 1 (ปี)' ,\n",
    "                    'วันเดือนปี 1' , 'จำนวนเงิน 1', 'รหัสสาขา' ]\n",
    "df.columns = new_column_names\n",
    "df['กรมธรรม์'] = df['กรมธรรม์'].astype(str)\n",
    "length = df['กรมธรรม์'].str.len()\n",
    "df['กรมธรรม์'] = df['กรมธรรม์'].where(length >= 6, df['กรมธรรม์'].shift())\n",
    "# เปลี่ยน type ข้อมูล\n",
    "dtypes = {\n",
    "        \"ที่\": \"str\",\n",
    "        \"กรมธรรม์\": \"str\",\n",
    "        \"รหัสสาขา\": \"str\",\n",
    "        \"สถานะ\": \"object\",\n",
    "        \"เงินค้ำ\": \"str\",\n",
    "        \"ชื่อ-สกุล\": \"object\",\n",
    "        \"วันที่เปลี่ยนแปลงแก้ไข\": \"object\", \n",
    "        \"สาขา\": \"object\",\n",
    "        \"ชื่อ-สกุลผู้เปลี่ยน\": \"object\",\n",
    "        \"ที่อยู่เดิม\": \"object\",\n",
    "        \"ไปรษณีย์เดิม\": \"object\",\n",
    "        \"โทรศัพท์เดิม\": \"str\",\n",
    "        \"ที่อยู่ใหม่\": \"object\",\n",
    "        # \"count\": \"int64\",\n",
    "        \"ไปรษณีย์ใหม่\": \"object\",\n",
    "        \"โทรศัพท์ใหม่\": \"str\",\n",
    "        \"งวดชำระถึง\": \"object\",\n",
    "        \"วันเดือนปีที่ชำระ\": \"object\", \n",
    "        \"งวดครบชำระ\": \"object\",\n",
    "        \"วันเดือนปี\": \"object\", \n",
    "        # \"จำนวนเงิน\": \"float64\",\n",
    "        \"ประเภท 1 (ปี)\": \"object\",\n",
    "        \"วันเดือนปี 1\": \"object\",\n",
    "        \"จำนวนเงิน 1\": \"object\",\n",
    "        # \"ประเภท 2 (ปี)\": \"object\",\n",
    "        # \"วันเดือนปี 2\": \"object\",\n",
    "        # \"จำนวนเงิน 2\": \"float64\"\n",
    "    }\n",
    "df = df.astype(dtypes)\n",
    "\n",
    "# df.head()\n",
    "# df.info() "
   ]
  },
  {
   "cell_type": "code",
   "execution_count": 120,
   "metadata": {},
   "outputs": [],
   "source": [
    "# เอาที่เลขกรมธรรม์เป็น null ออก เอาไว้ไปเติมข้อมูล\n",
    "null_df = df[df['สถานะ'] . isnull()]\n",
    "null_df.head()\n",
    "null_field = ['กรมธรรม์' , 'ประเภท 1 (ปี)' ,'วันเดือนปี 1', 'จำนวนเงิน 1']\n",
    "null_df = null_df[null_field]\n",
    "# เปลี่ยนชื่อ field\n",
    "null_df.columns = ['กรมธรรม์' , 'ประเภท 2 (ปี)' ,'วันเดือนปี 2', 'จำนวนเงิน 2']\n",
    "# null_df.head()"
   ]
  },
  {
   "cell_type": "code",
   "execution_count": 121,
   "metadata": {},
   "outputs": [],
   "source": [
    "# ดึงเลขกรมธรรม์ที่ไม่ null\n",
    "notnull_df = df[df['สถานะ'] .notnull()]\n",
    "# notnull_df.head()"
   ]
  },
  {
   "cell_type": "code",
   "execution_count": 122,
   "metadata": {},
   "outputs": [],
   "source": [
    "# ่join data\n",
    "data_df = pd.merge(notnull_df, null_df, on='กรมธรรม์', how='left')\n",
    "\n",
    "# นับจำนวนการเกิดซ้ำของแต่ละค่าในคอลัมน์ 'ที่อยู่ใหม่'\n",
    "data_df['count'] = data_df.groupby('ที่อยู่ใหม่')['ที่อยู่ใหม่'].transform('count')\n",
    "\n",
    "# เรียงลำดับคอลัมน์ใหม่ \n",
    "column_order = ['ที่', 'กรมธรรม์','รหัสสาขา', 'สถานะ', 'เงินค้ำ', 'ชื่อ-สกุล',\n",
    "       'วันที่เปลี่ยนแปลงแก้ไข', 'สาขา', 'ชื่อ-สกุลผู้เปลี่ยน', 'ที่อยู่เดิม',\n",
    "       'ไปรษณีย์เดิม', 'โทรศัพท์เดิม', 'ที่อยู่ใหม่', 'count' , 'ไปรษณีย์ใหม่',\n",
    "       'โทรศัพท์ใหม่', 'งวดชำระถึง', 'วันเดือนปีที่ชำระ', 'งวดครบชำระ',\n",
    "       'วันเดือนปี', 'จำนวนเงิน', 'ประเภท 1 (ปี)', 'วันเดือนปี 1',\n",
    "       'จำนวนเงิน 1',  'ประเภท 2 (ปี)', 'วันเดือนปี 2',\n",
    "       'จำนวนเงิน 2']\n",
    "data_df = data_df[column_order]\n",
    "# ตัด .0 ออกจากที่\n",
    "data_df['ที่'] = data_df['ที่'].astype(str).str.replace('.0', '')\n",
    "\n",
    "# ตัด .0 ออกจากเลขกรมธรรม์\n",
    "data_df['กรมธรรม์'] = data_df['กรมธรรม์'].astype(str).str.replace('.0', '')\n",
    "\n",
    "# เติม เงินค้ำ ให้ครบ 4 หลัก\n",
    "data_df['เงินค้ำ'] = data_df['เงินค้ำ'].astype(str).str[:-2].str.zfill(5)\n",
    "\n",
    "# เติม เบอร์โทรให้ครบ 10 หลัก\n",
    "data_df['โทรศัพท์เดิม'] = data_df['โทรศัพท์เดิม'].astype(str).str.replace('.0', '')\n",
    "if len(data_df['โทรศัพท์เดิม']) >= 8 :\n",
    "       data_df['โทรศัพท์เดิม'] = data_df['โทรศัพท์เดิม'].apply(lambda x: '0' + x if len(x) > 7 else x)\n",
    "data_df['โทรศัพท์เดิม'] = data_df['โทรศัพท์เดิม'].astype(str).str.replace('nan', '')\n",
    "\n",
    "data_df['โทรศัพท์ใหม่'] = data_df['โทรศัพท์ใหม่'].astype(str).str.replace('.0', '')\n",
    "if len(data_df['โทรศัพท์ใหม่']) >= 8 :\n",
    "       data_df['โทรศัพท์ใหม่'] = data_df['โทรศัพท์ใหม่'].apply(lambda x: '0' + x if len(x) > 7 else x)\n",
    "data_df['โทรศัพท์ใหม่'] = data_df['โทรศัพท์ใหม่'].astype(str).str.replace('nan', '')\n",
    "# data_df['โทรศัพท์ใหม่']\n",
    "# data_df.head()"
   ]
  },
  {
   "cell_type": "code",
   "execution_count": 123,
   "metadata": {},
   "outputs": [],
   "source": [
    "# ตัดแถวที่ไม่ต้องการ\n",
    "data_df_finish = data_df[data_df['สถานะ'] .notnull()]\n",
    "# notnull_df = df[df['กรมธรรม์'] .notnull()]\n",
    "# data_df_finish.head()"
   ]
  },
  {
   "cell_type": "markdown",
   "metadata": {},
   "source": [
    "#### ส่วน ACL"
   ]
  },
  {
   "cell_type": "code",
   "execution_count": 124,
   "metadata": {},
   "outputs": [],
   "source": [
    "# เพิ่ม Field : วันที่เปลี่ยนแปลงแก้ไข_คส\n",
    "\n",
    "# ฟังก์ชันแปลงวันที่\n",
    "def convert_date(date_str):\n",
    "    day, month, year = map(int, date_str.split('/'))\n",
    "    year -= 543  # ปรับปีพุทธศักราชเป็นคริสต์ศักราช\n",
    "    return f\"{day:02d}/{month:02d}/{year:04d}\"\n",
    "\n",
    "# สร้างคอลัมน์ใหม่ใน DataFrame\n",
    "data_df_finish['วันที่เปลี่ยนแปลงแก้ไข_คส'] = data_df_finish['วันที่เปลี่ยนแปลงแก้ไข'].apply(convert_date)\n",
    "# data_df_finish.head()"
   ]
  },
  {
   "cell_type": "code",
   "execution_count": 125,
   "metadata": {},
   "outputs": [],
   "source": [
    "# เพิ่ม Field : วันที่จ่ายเงิน_คส\n",
    "\n",
    "# ฟังก์ชันแปลงวันที่\n",
    "def convert_date(date_str):\n",
    "    if pd.notna(date_str):\n",
    "        try:\n",
    "            day, month, year = map(int, date_str.split('/'))\n",
    "            year -= 543  # ปรับปีพุทธศักราชเป็นคริสต์ศักราช\n",
    "            return f\"{day:02d}/{month:02d}/{year:04d}\"\n",
    "        except ValueError:\n",
    "            return None  # คืนค่า None หากไม่สามารถแปลงได้\n",
    "    return None\n",
    "\n",
    "# สร้างคอลัมน์ใหม่ใน DataFrame\n",
    "data_df_finish['วันที่จ่ายเงิน_คส'] = data_df_finish['วันเดือนปี 1'].apply(convert_date)\n",
    "# data_df_finish.head()"
   ]
  },
  {
   "cell_type": "code",
   "execution_count": 126,
   "metadata": {},
   "outputs": [],
   "source": [
    "#  เพิ่ม field : review_วันที่จ่ายเงิน\n",
    "\n",
    "# Convert date format ให้เป็น datetime format\n",
    "data_df_finish['วันที่จ่ายเงิน_คส'] = pd.to_datetime(data_df_finish['วันที่จ่ายเงิน_คส'], format='%d/%m/%Y')\n",
    "data_df_finish['วันที่เปลี่ยนแปลงแก้ไข_คส'] = pd.to_datetime(data_df_finish['วันที่เปลี่ยนแปลงแก้ไข_คส'], format='%d/%m/%Y')\n",
    "\n",
    "# หาความต่างของวันที่\n",
    "data_df_finish['review_วันที่จ่ายเงิน'] = (data_df_finish['วันที่จ่ายเงิน_คส'] - data_df_finish['วันที่เปลี่ยนแปลงแก้ไข_คส']).dt.days\n",
    "\n",
    "# data_df_finish.head()"
   ]
  },
  {
   "cell_type": "markdown",
   "metadata": {},
   "source": [
    "#### ใส่ Rules"
   ]
  },
  {
   "cell_type": "markdown",
   "metadata": {},
   "source": [
    "##### Rules 1"
   ]
  },
  {
   "cell_type": "code",
   "execution_count": 127,
   "metadata": {},
   "outputs": [],
   "source": [
    "# เปลี่ยนรหัสสาขาทุกครั้ง\n",
    "# รหัสสาขา = '031'\n",
    "\n",
    "data_df_finish['ประเภท 1 (ปี)'] = data_df_finish['ประเภท 1 (ปี)'].astype(str)\n",
    "data_df_finish['รหัสสาขา'] = data_df_finish['รหัสสาขา'].astype(str)\n",
    "# data_df_finish['review_วันที่จ่ายเงิน'] = data_df_finish['review_วันที่จ่ายเงิน'].astype(str).str.replace('.0', '')"
   ]
  },
  {
   "cell_type": "code",
   "execution_count": 128,
   "metadata": {},
   "outputs": [],
   "source": [
    "# Rule 101\n",
    "# ((BETWEEN( review_วันที่จ่ายเงิน, -90 , 90 )) AND (count <> 1)) AND (ประเภท_1__ปี_ = \"เงินกู้\") AND (รหัสสาขา = \"202\")\n",
    "\n",
    "Rule_101 = data_df_finish[\n",
    "    (data_df_finish['review_วันที่จ่ายเงิน'].between(-90, 90)) &\n",
    "    (data_df_finish['count'] != 1) &\n",
    "    (data_df_finish['ประเภท 1 (ปี)'] == 'เงินกู้') \n",
    "    # (data_df_finish['รหัสสาขา'] == รหัสสาขา)\n",
    "]\n",
    "Rule_101['Rules']= 101\n",
    "Rule_101['Remark']= 'ที่อยู่ใหม่ซ้ำ_มีเงินกู้ในช่วง90วัน'\n",
    "# Rule_101.head()"
   ]
  },
  {
   "cell_type": "code",
   "execution_count": 129,
   "metadata": {},
   "outputs": [],
   "source": [
    "# Rule 102\n",
    "# ((BETWEEN( review_วันที่จ่ายเงิน, -90 , 90 )) AND (count = 1)) AND (ประเภท_1__ปี_ = \"เงินกู้\") AND (รหัสสาขา = \"202\")\n",
    "\n",
    "Rule_102 = data_df_finish[\n",
    "    (data_df_finish['review_วันที่จ่ายเงิน'].between(-90, 90)) &\n",
    "    (data_df_finish['count'] == 1) &\n",
    "    (data_df_finish['ประเภท 1 (ปี)'] == 'เงินกู้') \n",
    "    # (data_df_finish['รหัสสาขา'] == รหัสสาขา)\n",
    "]\n",
    "Rule_102['Rules']= 102\n",
    "Rule_102['Remark']= 'ที่อยู่ใหม่ไม่ซ้ำ_มีเงินกู้ในช่วง90วัน'\n",
    "# Rule_102.head()"
   ]
  },
  {
   "cell_type": "code",
   "execution_count": 130,
   "metadata": {},
   "outputs": [],
   "source": [
    "# Rule 103\n",
    "# ((((BETWEEN( review_วันที่จ่ายเงิน, -90 , 90 )) AND (count <> 1)) AND (ประเภท_1__ปี_ <> \"เงินกู้\")) AND (ประเภท_1__ปี_ <> \"ปันผล (15)\")) AND (ประเภท_1__ปี_ <> \"ปันผล (20)\")  AND (รหัสสาขา = \"632\") \n",
    "\n",
    "Rule_103 = data_df_finish[\n",
    "    (data_df_finish['review_วันที่จ่ายเงิน'].between(-90, 90)) &\n",
    "    (data_df_finish['count'] != 1) &\n",
    "    (data_df_finish['ประเภท 1 (ปี)'] != 'เงินกู้') &\n",
    "    (data_df_finish['ประเภท 1 (ปี)'] != 'ปันผล (15)') &\n",
    "    (data_df_finish['ประเภท 1 (ปี)'] != 'ปันผล (20)') \n",
    "    # (data_df_finish['รหัสสาขา'] == รหัสสาขา)\n",
    "]\n",
    "Rule_103['Rules']= 103\n",
    "Rule_103['Remark']= 'ที่อยู่ใหม่ซ้ำ_มีเงินจ่ายคืนในช่วง90วัน'\n",
    "# Rule_103.head()"
   ]
  },
  {
   "cell_type": "code",
   "execution_count": 131,
   "metadata": {},
   "outputs": [],
   "source": [
    "# Rule 104\n",
    "#  ((((BETWEEN( review_วันที่จ่ายเงิน, -90 , 90 )) AND (count = 1)) AND (ประเภท_1__ปี_ <> \"เงินกู้\")) AND (ประเภท_1__ปี_ <> \"ปันผล (20)\")) AND (ประเภท_1__ปี_ <> \"ปันผล (10)\") AND (รหัสสาขา = \"202\")\n",
    "\n",
    "Rule_104 = data_df_finish[\n",
    "    (data_df_finish['review_วันที่จ่ายเงิน'].between(-90, 90)) &\n",
    "    (data_df_finish['count'] == 1) &\n",
    "    (data_df_finish['ประเภท 1 (ปี)'] != 'เงินกู้') &\n",
    "    (data_df_finish['ประเภท 1 (ปี)'] != 'ปันผล (10)') &\n",
    "    (data_df_finish['ประเภท 1 (ปี)'] != 'ปันผล (20)') \n",
    "    # (data_df_finish['รหัสสาขา'] == รหัสสาขา)\n",
    "]\n",
    "\n",
    "Rule_104['Rules']= 104\n",
    "Rule_104['Remark']= 'ที่อยู่ใหม่ไม่ซ้ำ_มีเงินจ่ายคืนในช่วง90วัน'\n",
    "# Rule_104.head()"
   ]
  },
  {
   "cell_type": "code",
   "execution_count": 132,
   "metadata": {},
   "outputs": [],
   "source": [
    "Rules1_df = pd.concat([Rule_101, Rule_102 ,Rule_103 ,Rule_104], ignore_index=True)\n",
    "Rules1_df['review_วันที่จ่ายเงิน'] = Rules1_df['review_วันที่จ่ายเงิน'].astype(str).str.replace('.0', '')\n",
    "# Rules1_df.head()"
   ]
  },
  {
   "cell_type": "code",
   "execution_count": 133,
   "metadata": {},
   "outputs": [],
   "source": [
    "Rules1_df['จำนวนเงิน'] = Rules1_df['จำนวนเงิน'].str.replace(',', '').astype(float)\n",
    "Rules1_df = Rules1_df.sort_values(by=['Rules', 'จำนวนเงิน'], ascending=[True, False])\n",
    "# Rules1_df.head()"
   ]
  },
  {
   "cell_type": "code",
   "execution_count": 134,
   "metadata": {},
   "outputs": [],
   "source": [
    "# ลบคอลัมน์ 'Rules' ออก\n",
    "Rules1_df = Rules1_df.drop(columns=['Rules'])"
   ]
  },
  {
   "cell_type": "code",
   "execution_count": 135,
   "metadata": {},
   "outputs": [],
   "source": [
    "now = datetime.now().strftime(\"%d%m%Y\")\n",
    "\n",
    "# แยก DataFrame ตามรหัสสาขาและ Remark และจัดเรียงตามขนาดกลุ่ม\n",
    "grouped = Rules1_df.groupby(['รหัสสาขา', 'Remark'])\n",
    "sorted_groups = sorted(grouped, key=lambda x: len(x[1]))\n",
    "\n",
    "# export แบ่งไฟล์ตามสาขา แยก sheet ตาม Hierarchy Rules\n",
    "for branch_code in Rules1_df['รหัสสาขา'].unique():\n",
    "    for remark in Rules1_df[Rules1_df['รหัสสาขา'] == branch_code]['Remark'].unique():\n",
    "        branch_remark_df = Rules1_df[(Rules1_df['รหัสสาขา'] == branch_code) & (Rules1_df['Remark'] == remark)]\n",
    "        record_count = branch_remark_df.shape[0]  # นับจำนวน record หลังการแบ่งไฟล์\n",
    "        \n",
    "        # ถ้า record เกิน 10 ให้เลือกแค่ 10 record\n",
    "        if record_count > 10:\n",
    "            branch_remark_df = branch_remark_df.head(2)\n",
    "            record_count = 10\n",
    "        \n",
    "        file_name000 = f\"changeaddr_{branch_code}_{now}_{remark}_{record_count}.xlsx\"\n",
    "        file_path000 = os.path.join(path, file_name000)\n",
    "        \n",
    "        with pd.ExcelWriter(file_path000) as writer:\n",
    "            for (group_branch_code, group_remark), group in sorted_groups:\n",
    "                if group_branch_code == branch_code and group_remark == remark:\n",
    "                    rules = group['Remark'].unique()[0]\n",
    "                    sheet_name = f\"{rules}\"\n",
    "                    group.head(10).to_excel(writer, sheet_name=sheet_name, index=False)"
   ]
  }
 ],
 "metadata": {
  "kernelspec": {
   "display_name": ".venv",
   "language": "python",
   "name": "python3"
  },
  "language_info": {
   "codemirror_mode": {
    "name": "ipython",
    "version": 3
   },
   "file_extension": ".py",
   "mimetype": "text/x-python",
   "name": "python",
   "nbconvert_exporter": "python",
   "pygments_lexer": "ipython3",
   "version": "3.12.4"
  }
 },
 "nbformat": 4,
 "nbformat_minor": 2
}
