{
 "cells": [
  {
   "cell_type": "code",
   "execution_count": 1,
   "metadata": {},
   "outputs": [],
   "source": [
    "import pandas as pd \n",
    "import datetime\n",
    "from datetime import datetime \n",
    "import os\n",
    "import warnings"
   ]
  },
  {
   "cell_type": "code",
   "execution_count": 2,
   "metadata": {},
   "outputs": [],
   "source": [
    "warnings.filterwarnings('ignore')"
   ]
  },
  {
   "cell_type": "markdown",
   "metadata": {},
   "source": [
    "#### ส่วนจัดการไฟล์"
   ]
  },
  {
   "cell_type": "code",
   "execution_count": 3,
   "metadata": {},
   "outputs": [],
   "source": [
    "#เปลี่ยน path\n",
    "path = r'C:\\Users\\charoenchai.chu\\Desktop\\Rules\\RULE-4\\021\\021'\n",
    "path00 = r'C:\\Users\\charoenchai.chu\\Desktop\\Rules\\RULE-4'\n",
    "file_name00 = 'ORD_021'\n",
    "\n",
    "file_path00 = os.path.join(path00, file_name00 + '.xlsx')\n",
    "df=pd.read_excel(file_path00 , skiprows= 4)\n",
    "df['รหัสสาขา'] = file_name00[-3:]"
   ]
  },
  {
   "cell_type": "code",
   "execution_count": 4,
   "metadata": {},
   "outputs": [],
   "source": [
    "# ตั้งชื่อ field ใหม่ทั้งหมด\n",
    "new_column_names = ['ที่', 'กรมธรรม์', 'ชื่อ-สกุล', 'ที่อยู่1', 'วันที่จ่ายเงิน', 'ปี','จำนวนเงิน' ,'รับเอง' ,'รับมอบฯ' ,'null','รหัสสาขา']\n",
    "df.columns = new_column_names\n",
    "# แทนที่ค่า null ด้วยตัวก่อนหน้า\n",
    "# df.loc[df['กรมธรรม์'].str.len() < 6, 'กรมธรรม์'] = None\n",
    "# df['กรมธรรม์'] = df['กรมธรรม์'].fillna(method='ffill')\n",
    "df['กรมธรรม์'] = df['กรมธรรม์'].astype(str)\n",
    "length = df['กรมธรรม์'].str.len()\n",
    "df['กรมธรรม์'] = df['กรมธรรม์'].where(length >= 6, df['กรมธรรม์'].shift())\n",
    "# เปลี่ยน type ข้อมูล\n",
    "dtypes = {\n",
    "        \"ที่\": \"str\",\n",
    "        \"กรมธรรม์\": \"str\",\n",
    "        \"รหัสสาขา\": \"str\",\n",
    "        \"ชื่อ-สกุล\": \"object\",\n",
    "        \"ที่อยู่1\": \"object\", \n",
    "        # \"ที่อยู่2\": \"object\",\n",
    "        \"วันที่จ่ายเงิน\": \"object\",\n",
    "        \"ปี\": \"object\",\n",
    "        \"จำนวนเงิน\": \"str\",\n",
    "        \"รับเอง\": \"object\",\n",
    "        \"รับมอบฯ\": \"object\"\n",
    "    }\n",
    "df = df.astype(dtypes)\n",
    "# ตัดแถวว่างออก\n",
    "df = df[df['ที่อยู่1'] . notnull()]\n",
    "# df.head()"
   ]
  },
  {
   "cell_type": "code",
   "execution_count": 5,
   "metadata": {},
   "outputs": [],
   "source": [
    "# เอาที่เลขกรมธรรม์เป็น null ออก เอาไว้ไปเติมข้อมูล\n",
    "null_df = df[df['วันที่จ่ายเงิน'] . isnull()]\n",
    "null_df.head()\n",
    "null_field = ['กรมธรรม์' , 'ที่อยู่1']\n",
    "null_df = null_df[null_field]\n",
    "# เปลี่ยนชื่อ field\n",
    "null_df.columns = ['กรมธรรม์' , 'ที่อยู่2']\n",
    "# null_df.head()"
   ]
  },
  {
   "cell_type": "code",
   "execution_count": 6,
   "metadata": {},
   "outputs": [],
   "source": [
    "# ดึงเลขกรมธรรม์ที่ไม่ null\n",
    "notnull_df = df[df['วันที่จ่ายเงิน'] .notnull()]\n",
    "# notnull_df.head()"
   ]
  },
  {
   "cell_type": "code",
   "execution_count": 7,
   "metadata": {},
   "outputs": [],
   "source": [
    "# ่join data\n",
    "data_df = pd.merge(notnull_df, null_df, on='กรมธรรม์', how='left')\n",
    "\n",
    "# เรียงลำดับคอลัมน์ใหม่ \n",
    "column_order = ['ที่', 'กรมธรรม์','รหัสสาขา' , 'ชื่อ-สกุล', 'ที่อยู่1', 'ที่อยู่2', 'วันที่จ่ายเงิน', 'ปี','จำนวนเงิน' ,'รับเอง' ,'รับมอบฯ' ,'null']\n",
    "data_df = data_df[column_order]\n",
    "\n",
    "# ตัด culumn null ออก\n",
    "data_df = data_df[['ที่', 'กรมธรรม์','รหัสสาขา' , 'ชื่อ-สกุล', 'ที่อยู่1', 'ที่อยู่2', 'วันที่จ่ายเงิน', 'ปี','จำนวนเงิน' ,'รับเอง' ,'รับมอบฯ']]\n",
    "# data_df.head()"
   ]
  },
  {
   "cell_type": "code",
   "execution_count": 8,
   "metadata": {},
   "outputs": [],
   "source": [
    "# ตัดแถวที่ไม่ต้องการ\n",
    "data_df_finish = data_df[data_df['ปี'] .notnull()]"
   ]
  },
  {
   "cell_type": "code",
   "execution_count": 9,
   "metadata": {},
   "outputs": [],
   "source": [
    "# data_df_finish.to_excel(os.path.join(path, file_name00 + '&' + file_name01 + '_finish' + '.xlsx'),index = False)"
   ]
  },
  {
   "cell_type": "markdown",
   "metadata": {},
   "source": [
    "#### ส่วน ACL"
   ]
  },
  {
   "cell_type": "markdown",
   "metadata": {},
   "source": [
    "##### จัดไฟล์ตาม ACL"
   ]
  },
  {
   "cell_type": "code",
   "execution_count": 10,
   "metadata": {},
   "outputs": [],
   "source": [
    "# เอาไว้อ่าน name\n",
    "#เปลี่ยน path\n",
    "path_name = r'C:\\Users\\charoenchai.chu\\Desktop\\Rules'\n",
    "file_name_name = 'Name_test_DeleteField'\n",
    "\n",
    "name_file = os.path.join(path_name, file_name_name + '.txt')\n",
    "df_name = pd.read_csv(name_file , delimiter='%' , header=None, names=['nameid', 'personid'])\n",
    "df_name['nameid']= df_name['nameid'].astype(str).str.zfill(13)\n",
    "df_name['personid'] = df_name['personid'].astype('str').str.zfill(13)\n",
    "# df_name"
   ]
  },
  {
   "cell_type": "code",
   "execution_count": 11,
   "metadata": {},
   "outputs": [],
   "source": [
    "# เอาไว้อ่าน ordmast\n",
    "#เปลี่ยน path\n",
    "path_ord = r'C:\\Users\\charoenchai.chu\\Desktop\\Rules'\n",
    "file_ord = 'ordmast_tast_DeleteField'\n",
    "\n",
    "ord_file = os.path.join(path_ord, file_ord + '.txt')\n",
    "df_ord_ORG = pd.read_csv(ord_file , delimiter= '%' , header=None, names=['กรมธรรม์','nameid', 'branch','effectivedate', 'duedate', 'addressid'])\n",
    "\n",
    "df_ord = df_ord_ORG[['กรมธรรม์','nameid', 'branch', 'duedate', 'addressid',]]\n",
    "\n",
    "df_ord['กรมธรรม์']= df_ord['กรมธรรม์'].astype(str).str.zfill(8)\n",
    "df_ord['nameid']= df_ord['nameid'].astype(str).str.zfill(13)\n",
    "df_ord['branch'] = df_ord['branch'].astype(str).str.zfill(3)\n",
    "df_ord['addressid'] = df_ord['addressid'].astype(str).str.zfill(10)\n",
    "# df_ord\n"
   ]
  },
  {
   "cell_type": "code",
   "execution_count": 12,
   "metadata": {},
   "outputs": [],
   "source": [
    "# เอาไว้อ่าน person\n",
    "#เปลี่ยน path\n",
    "path_person = r'C:\\Users\\charoenchai.chu\\Desktop\\Rules'\n",
    "file_person = 'person_test_deleatfield'\n",
    "\n",
    "person_file = os.path.join(path_person, file_person + '.txt')\n",
    "df_person = pd.read_csv(person_file ,encoding='Windows-1252' , delimiter ='%' , header=None, names=['personid', 'referenceid'])\n",
    "df_person['personid'] = df_person['personid'].astype(str).str.zfill(13)\n",
    "df_person['referenceid'] = df_person['referenceid'].astype(str).str.zfill(13)\n",
    "# df_person"
   ]
  },
  {
   "cell_type": "code",
   "execution_count": 13,
   "metadata": {},
   "outputs": [],
   "source": [
    "# เอาไว้อ่าน person\n",
    "#เปลี่ยน path\n",
    "path_phon = r'C:\\Users\\charoenchai.chu\\Desktop\\Rules'\n",
    "file_phon = 'phon_test_deletefield'\n",
    "\n",
    "phon_file = os.path.join(path_phon, file_phon + '.txt')\n",
    "df_phon0 = pd.read_csv(phon_file ,encoding='Windows-1252' , delimiter ='%' , header=None, names=['addressid','sequence', 'phoneno'])\n",
    "df_phon0 = df_phon0[['addressid', 'phoneno']]\n",
    "df_phon0['addressid'] = df_phon0['addressid'].astype(str).str.zfill(10)\n",
    "df_phon0['phoneno'] = '0' + df_phon0['phoneno'].astype(str).str.lstrip('0')\n",
    "df_phon0['index'] = df_phon0.groupby('addressid').cumcount() + 1\n",
    "\n",
    "# df_phon0"
   ]
  },
  {
   "cell_type": "code",
   "execution_count": 14,
   "metadata": {},
   "outputs": [],
   "source": [
    "df_phon1 = df_phon0[df_phon0['index'] == 1]\n",
    "df_phon2 = df_phon0[df_phon0['index'] == 2]\n",
    "\n",
    "df_phon = pd.merge(df_phon1,df_phon2 , on= 'addressid' , how= 'left' )\n",
    "df_phon = df_phon[['addressid' , 'phoneno_x' ,'phoneno_y']]\n",
    "# df_phon = df_phon[df_phon['addressid'] == 'x007023918']\n",
    "# df_phon"
   ]
  },
  {
   "cell_type": "code",
   "execution_count": 15,
   "metadata": {},
   "outputs": [],
   "source": [
    "file_df = pd.merge(data_df_finish,df_ord , on= 'กรมธรรม์' , how='left')\n",
    "file_df1 = pd.merge(file_df ,df_name , on= 'nameid' , how='left')\n",
    "file_df2 = pd.merge(file_df1 ,df_person , on= 'personid' , how='left')\n",
    "file_df3 = pd.merge(file_df2 ,df_phon , on= 'addressid' , how='left')\n",
    "# file_df3.head()"
   ]
  },
  {
   "cell_type": "code",
   "execution_count": 16,
   "metadata": {},
   "outputs": [],
   "source": [
    "acl_df = file_df3[['ที่','กรมธรรม์','รหัสสาขา','ชื่อ-สกุล', 'ที่อยู่1','ที่อยู่2', 'วันที่จ่ายเงิน','ปี','จำนวนเงิน','รับเอง', 'รับมอบฯ','duedate','personid','referenceid','phoneno_x', 'phoneno_y']]\n",
    "\n",
    "acl_df['จำนวนเงิน'] = acl_df['จำนวนเงิน'].astype(str).str.replace(',', '').astype(float)\n",
    "\n",
    "dtypes ={\"duedate\" : \"object\"}\n",
    "acl_df = acl_df.astype(dtypes)\n",
    "# acl_df.head(1)"
   ]
  },
  {
   "cell_type": "code",
   "execution_count": 17,
   "metadata": {},
   "outputs": [],
   "source": [
    "# ฟังก์ชันแปลงวันที่จาก พ.ศ. เป็น ค.ศ.\n",
    "def convert_date(date_str):\n",
    "    year = int(date_str[:4]) - 543  # แปลงปีจาก พ.ศ. เป็น ค.ศ.\n",
    "    month = date_str[4:6]\n",
    "    day = date_str[6:8]\n",
    "    return f\"{year}/{month}/{day}\"\n",
    "\n",
    "acl_df['duedate'] = acl_df['duedate'].astype(str)\n",
    "# สร้างคอลัมน์ใหม่ใน DataFrame\n",
    "acl_df['duedate_CTOD'] = acl_df['duedate'].apply(convert_date)\n",
    "# acl_df.head()"
   ]
  },
  {
   "cell_type": "code",
   "execution_count": 18,
   "metadata": {},
   "outputs": [],
   "source": [
    "# ฟังก์ชันแปลงวันที่\n",
    "def convert_date(date_str):\n",
    "    if pd.notna(date_str):\n",
    "        try:\n",
    "            day, month, year = map(int, date_str.split('/'))\n",
    "            year -= 543  # ปรับปีพุทธศักราชเป็นคริสต์ศักราช\n",
    "            return f\"{year:04d}/{month:02d}/{day:02d}\"\n",
    "        except ValueError:\n",
    "            return None  # คืนค่า None หากไม่สามารถแปลงได้\n",
    "    return None\n",
    "\n",
    "# สร้างคอลัมน์ใหม่ใน DataFrame\n",
    "acl_df['วันที่จ่ายเงิน_CTOD'] = acl_df['วันที่จ่ายเงิน'].apply(convert_date)\n",
    "# acl_df.head(1)"
   ]
  },
  {
   "cell_type": "code",
   "execution_count": 19,
   "metadata": {},
   "outputs": [],
   "source": [
    "# Convert date format ให้เป็น datetime format\n",
    "acl_df['วันที่จ่ายเงิน_CTOD'] = pd.to_datetime(acl_df['วันที่จ่ายเงิน_CTOD'], format='%Y/%m/%d')\n",
    "acl_df['duedate_CTOD'] = pd.to_datetime(acl_df['duedate_CTOD'], format='%Y/%m/%d')\n",
    "\n",
    "# หาความต่างของวันที่\n",
    "acl_df['review_ขาดการชำระเบี้ย'] = (acl_df['วันที่จ่ายเงิน_CTOD'] - acl_df['duedate_CTOD']).dt.days\n",
    "acl_df = acl_df.drop_duplicates()\n",
    "# acl_df"
   ]
  },
  {
   "cell_type": "markdown",
   "metadata": {},
   "source": [
    "##### Rules2 ORD"
   ]
  },
  {
   "cell_type": "code",
   "execution_count": 20,
   "metadata": {},
   "outputs": [],
   "source": [
    "# (review_ขาดการชำระเบี้ย > 365) AND (รับมอบฯ = \"/\")\n",
    "Rules_ORD_201 = acl_df[(acl_df['review_ขาดการชำระเบี้ย'] > 365) & \n",
    "                         (acl_df['รับมอบฯ'] == \"/\")]\n",
    "Rules_ORD_201['Rules']= 1\n",
    "Rules_ORD_201['Remark'] = 'รับมอบ_ขาดชำระเกิน1ปี'\n",
    "# Rules_ORD_201"
   ]
  },
  {
   "cell_type": "code",
   "execution_count": 21,
   "metadata": {},
   "outputs": [],
   "source": [
    "# (((review_ขาดการชำระเบี้ย >= 0) AND (review_ขาดการชำระเบี้ย <= 365))) AND (รับมอบฯ = \"/\")\n",
    "Rules_ORD_202 = acl_df[(acl_df['review_ขาดการชำระเบี้ย'] <= 365) &\n",
    "                         (acl_df['review_ขาดการชำระเบี้ย'] >  0 ) &\n",
    "                         (acl_df['รับมอบฯ'] == \"/\")]\n",
    "Rules_ORD_202['Rules']= 2\n",
    "Rules_ORD_202['Remark'] = 'รับมอบ_ขาดชำระไม่เกิน1ปี'\n",
    "# Rules_ORD_202.head()"
   ]
  },
  {
   "cell_type": "code",
   "execution_count": 22,
   "metadata": {},
   "outputs": [],
   "source": [
    "#  (review_ขาดการชำระเบี้ย > 365) AND (รับเอง = \"/\")\n",
    "Rules_ORD_203 = acl_df[(acl_df['review_ขาดการชำระเบี้ย'] > 365) &\n",
    "                         (acl_df['รับเอง'] == \"/\")]\n",
    "Rules_ORD_203['Rules']= 3\n",
    "Rules_ORD_203['Remark'] = 'รับเอง_ขาดชำระเกิน1ปี'\n",
    "# Rules_ORD_203.head()"
   ]
  },
  {
   "cell_type": "code",
   "execution_count": 23,
   "metadata": {},
   "outputs": [],
   "source": [
    "# (((review_ขาดการชำระเบี้ย >= 0) AND (review_ขาดการชำระเบี้ย <= 365))) AND (รับเอง = \"/\")\n",
    "Rules_ORD_204 = acl_df[(acl_df['review_ขาดการชำระเบี้ย'] <= 365) &\n",
    "                         (acl_df['review_ขาดการชำระเบี้ย'] >  0 ) &\n",
    "                         (acl_df['รับเอง'] == \"/\")]\n",
    "Rules_ORD_204['Rules']= 4\n",
    "Rules_ORD_204['Remark'] = 'รับเอง_ขาดชำระไม่เกิน1ปี'\n",
    "# Rules_ORD_204.head()"
   ]
  },
  {
   "cell_type": "code",
   "execution_count": 24,
   "metadata": {},
   "outputs": [],
   "source": [
    "# รวมไฟล์\n",
    "Rules2_ORD_df = pd.concat([Rules_ORD_201, Rules_ORD_202 ,Rules_ORD_203 ,Rules_ORD_204], ignore_index=True)"
   ]
  },
  {
   "cell_type": "code",
   "execution_count": 25,
   "metadata": {},
   "outputs": [],
   "source": [
    "# Rules2_ORD_df['phoneno'] = Rules2_ORD_df['phoneno'].astype(str).str.replace('.0', '')\n",
    "# if len(Rules2_ORD_df['phoneno']) >= 8 :\n",
    "       # Rules2_ORD_df['phoneno'] = Rules2_ORD_df['phoneno'].apply(lambda x: '0' + x if len(x) > 7 else x)\n",
    "       # Rules2_ORD_df['phoneno'] = Rules2_ORD_df['phoneno'].str.zfill(10)\n",
    "# Rules2_ORD_df['phoneno'] = Rules2_ORD_df['phoneno'].astype(str).str.replace('nan', '')\n",
    "Rules2_ORD_df['referenceid'] = Rules2_ORD_df['referenceid'].astype(str)\n",
    "Rules2_ORD_df['personid'] = Rules2_ORD_df['personid'].astype(str)\n",
    "# Rules2_ORD_df['duedate'] = pd.to_datetime(Rules2_ORD_df['duedate'], format='%d/%m/%Y')\n",
    "Rules2_ORD_df = Rules2_ORD_df.sort_values(by=['Rules', 'จำนวนเงิน'], ascending=[True, False])\n",
    "# Rules2_ORD_df = Rules2_ORD_df[Rules2_ORD_df['ที่']== '79']\n",
    "# Rules2_ORD_df"
   ]
  },
  {
   "cell_type": "code",
   "execution_count": 26,
   "metadata": {},
   "outputs": [],
   "source": [
    "now = datetime.now().strftime(\"%d%m%Y\")\n",
    "\n",
    "# แยก DataFrame ตาม Remark และจัดเรียงตามขนาดกลุ่ม\n",
    "grouped = Rules2_ORD_df.groupby(['Remark', 'Rules', 'รหัสสาขา'])\n",
    "sorted_groups = sorted(grouped, key=lambda x: len(x[1]))\n",
    "\n",
    "# export แบ่งไฟล์ตาม Remark\n",
    "for (remark, rules, branch_code), group in sorted_groups:\n",
    "    record_count = group.shape[0]  # นับจำนวน record หลังการแบ่งไฟล์\n",
    "    \n",
    "    file_name = f\"{rules}_Rule2_OPsurrenderORD_{branch_code}_{remark}_{now}_{record_count}.xlsx\"\n",
    "    file_path = os.path.join(path, file_name)\n",
    "    \n",
    "    # ส่งออก DataFrame เป็นไฟล์ Excel\n",
    "    group.to_excel(file_path, index=False)"
   ]
  },
  {
   "cell_type": "markdown",
   "metadata": {},
   "source": [
    "##### ส่วนจาก Rule ข้อ 11 เป็นต้นไป"
   ]
  },
  {
   "cell_type": "code",
   "execution_count": 27,
   "metadata": {},
   "outputs": [],
   "source": [
    "# ฟังก์ชันแปลงวันที่จาก พ.ศ. เป็น ค.ศ.\n",
    "def convert_date(date_str):\n",
    "    year = int(date_str[:4]) - 543  # แปลงปีจาก พ.ศ. เป็น ค.ศ.\n",
    "    month = date_str[4:6]\n",
    "    day = date_str[6:8]\n",
    "    return f\"{year}/{month}/{day}\"\n",
    "\n",
    "df_ord_ORG['effectivedate'] = df_ord_ORG['effectivedate'].astype(str)\n",
    "# สร้างคอลัมน์ใหม่ใน DataFrame\n",
    "df_ord_ORG['effectivedate_CTOD'] = df_ord_ORG['effectivedate'].apply(convert_date)"
   ]
  },
  {
   "cell_type": "code",
   "execution_count": 28,
   "metadata": {},
   "outputs": [],
   "source": [
    "now = datetime.now().strftime(\"%d%m%Y\")\n",
    "\n",
    "# กำหนดวันที่เริ่มต้น\n",
    "start_date = '2022-01-01'\n",
    "\n",
    "# แปลงคอลัมน์วันที่ให้เป็น datetime\n",
    "df_ord_ORG['effectivedate_CTOD'] = pd.to_datetime(df_ord_ORG['effectivedate_CTOD'])\n",
    "\n",
    "# กรองข้อมูลตามช่วงวันที่\n",
    "df_ord_30day = df_ord_ORG[df_ord_ORG['effectivedate_CTOD'] >= start_date]\n",
    "# df_ord_30day"
   ]
  },
  {
   "cell_type": "code",
   "execution_count": 29,
   "metadata": {},
   "outputs": [],
   "source": [
    "df_ord_30day['nameid']= df_ord_30day['nameid'].astype(str).str.zfill(13)\n",
    "df_ord_30day01 = pd.merge (df_ord_30day, df_name , on= 'nameid', how= 'left')\n",
    "\n",
    "df_ord_30day01['personid'] = df_ord_30day01['personid'].astype('str').str.zfill(13)\n",
    "df_ord_30day02 = pd.merge (df_ord_30day01,df_person , on= 'personid' , how= 'left')\n",
    "df_ord_30day02 = df_ord_30day02[['effectivedate_CTOD','referenceid']]\n",
    "# df_ord_30day02"
   ]
  },
  {
   "cell_type": "code",
   "execution_count": 30,
   "metadata": {},
   "outputs": [],
   "source": [
    "# join กับ data table หลัก\n",
    "df_ord_30day02['referenceid'] = df_ord_30day02['referenceid'].astype(str).str.zfill(13)\n",
    "df_ord_30day03 = pd.merge (df_ord_30day02,acl_df , on= 'referenceid' , how='left')\n",
    "# df_ord_30day03"
   ]
  },
  {
   "cell_type": "code",
   "execution_count": 31,
   "metadata": {},
   "outputs": [],
   "source": [
    "df_30day_T = df_ord_30day03[df_ord_30day03['ที่'].notnull()]\n",
    "# df_30day_T.head()"
   ]
  },
  {
   "cell_type": "code",
   "execution_count": 32,
   "metadata": {},
   "outputs": [],
   "source": [
    "# Convert date format ให้เป็น datetime format\n",
    "df_30day_T['วันที่จ่ายเงิน_CTOD'] = pd.to_datetime(df_30day_T['วันที่จ่ายเงิน_CTOD'], format='%Y/%m/%d')\n",
    "df_30day_T['effectivedate_CTOD'] = pd.to_datetime(df_30day_T['effectivedate_CTOD'], format='%Y/%m/%d')\n",
    "\n",
    "# หาความต่างของวันที่\n",
    "df_30day_T['review_เคสใหม่'] = (df_30day_T['วันที่จ่ายเงิน_CTOD'] - df_30day_T['effectivedate_CTOD']).dt.days\n",
    "df_30day_T = df_30day_T.drop_duplicates()\n",
    "df_30day_T = df_30day_T[(df_30day_T['review_เคสใหม่'] <= 30) &\n",
    "                        (df_30day_T['review_เคสใหม่'] >= -30)]\n",
    "# df_30day_T"
   ]
  },
  {
   "cell_type": "markdown",
   "metadata": {},
   "source": [
    "##### Rules 30 วัน"
   ]
  },
  {
   "cell_type": "code",
   "execution_count": 33,
   "metadata": {},
   "outputs": [],
   "source": [
    "# (review_ขาดการชำระเบี้ย > 365) AND (รับมอบฯ = \"/\")\n",
    "ORD_30day_201 = df_30day_T[(df_30day_T['review_ขาดการชำระเบี้ย'] > 365) & \n",
    "                         (df_30day_T['รับมอบฯ'] == \"/\")]\n",
    "ORD_30day_201['Rules']= 1\n",
    "ORD_30day_201['Remark'] = 'รับมอบ_ขาดชำระเกิน1ปี'\n",
    "# Rules_ORD_201"
   ]
  },
  {
   "cell_type": "code",
   "execution_count": 34,
   "metadata": {},
   "outputs": [],
   "source": [
    "# (((review_ขาดการชำระเบี้ย >= 0) AND (review_ขาดการชำระเบี้ย <= 365))) AND (รับมอบฯ = \"/\")\n",
    "ORD_30day_202 = df_30day_T[(df_30day_T['review_ขาดการชำระเบี้ย'] <= 365) &\n",
    "                         (df_30day_T['review_ขาดการชำระเบี้ย'] >  0 ) &\n",
    "                         (df_30day_T['รับมอบฯ'] == \"/\")]\n",
    "ORD_30day_202['Rules']= 2\n",
    "ORD_30day_202['Remark'] = 'รับมอบ_ขาดชำระไม่เกิน1ปี'\n",
    "# Rules_ORD_202.head()"
   ]
  },
  {
   "cell_type": "code",
   "execution_count": 35,
   "metadata": {},
   "outputs": [],
   "source": [
    "#  (review_ขาดการชำระเบี้ย > 365) AND (รับเอง = \"/\")\n",
    "ORD_30day_203 = df_30day_T[(df_30day_T['review_ขาดการชำระเบี้ย'] > 365) &\n",
    "                         (df_30day_T['รับเอง'] == \"/\")]\n",
    "ORD_30day_203['Rules']= 3\n",
    "ORD_30day_203['Remark'] = 'รับเอง_ขาดชำระเกิน1ปี'\n",
    "# Rules_ORD_203.head()"
   ]
  },
  {
   "cell_type": "code",
   "execution_count": 36,
   "metadata": {},
   "outputs": [],
   "source": [
    "# (((review_ขาดการชำระเบี้ย >= 0) AND (review_ขาดการชำระเบี้ย <= 365))) AND (รับเอง = \"/\")\n",
    "ORD_30day_204 = df_30day_T[(df_30day_T['review_ขาดการชำระเบี้ย'] <= 365) &\n",
    "                         (df_30day_T['review_ขาดการชำระเบี้ย'] >  0 ) &\n",
    "                         (df_30day_T['รับเอง'] == \"/\")]\n",
    "ORD_30day_204['Rules']= 4\n",
    "ORD_30day_204['Remark'] = 'รับเอง_ขาดชำระไม่เกิน1ปี'\n",
    "# ORD_30day_204.head()"
   ]
  },
  {
   "cell_type": "code",
   "execution_count": 38,
   "metadata": {},
   "outputs": [
    {
     "data": {
      "text/html": [
       "<div>\n",
       "<style scoped>\n",
       "    .dataframe tbody tr th:only-of-type {\n",
       "        vertical-align: middle;\n",
       "    }\n",
       "\n",
       "    .dataframe tbody tr th {\n",
       "        vertical-align: top;\n",
       "    }\n",
       "\n",
       "    .dataframe thead th {\n",
       "        text-align: right;\n",
       "    }\n",
       "</style>\n",
       "<table border=\"1\" class=\"dataframe\">\n",
       "  <thead>\n",
       "    <tr style=\"text-align: right;\">\n",
       "      <th></th>\n",
       "      <th>ที่</th>\n",
       "      <th>กรมธรรม์</th>\n",
       "      <th>รหัสสาขา</th>\n",
       "      <th>ชื่อ-สกุล</th>\n",
       "      <th>ที่อยู่1</th>\n",
       "      <th>ที่อยู่2</th>\n",
       "      <th>วันที่จ่ายเงิน</th>\n",
       "      <th>ปี</th>\n",
       "      <th>จำนวนเงิน</th>\n",
       "      <th>รับเอง</th>\n",
       "      <th>...</th>\n",
       "      <th>duedate</th>\n",
       "      <th>personid</th>\n",
       "      <th>referenceid</th>\n",
       "      <th>phoneno_x</th>\n",
       "      <th>phoneno_y</th>\n",
       "      <th>duedate_CTOD</th>\n",
       "      <th>วันที่จ่ายเงิน_CTOD</th>\n",
       "      <th>review_ขาดการชำระเบี้ย</th>\n",
       "      <th>Rules</th>\n",
       "      <th>Remark</th>\n",
       "    </tr>\n",
       "  </thead>\n",
       "  <tbody>\n",
       "    <tr>\n",
       "      <th>0</th>\n",
       "      <td>5</td>\n",
       "      <td>37727732</td>\n",
       "      <td>021</td>\n",
       "      <td>ด.ช.ฮาริส กิ่งเล็ก</td>\n",
       "      <td>3/3 หมู่ที่ 11</td>\n",
       "      <td>ต.กระบี่น้อย อ.เมือง จ.กระบี่ 81000</td>\n",
       "      <td>27/10/2566</td>\n",
       "      <td>05/02</td>\n",
       "      <td>10792.0</td>\n",
       "      <td>NaN</td>\n",
       "      <td>...</td>\n",
       "      <td>25661008</td>\n",
       "      <td>9000096667636</td>\n",
       "      <td>1819901153850</td>\n",
       "      <td>0836440591</td>\n",
       "      <td>NaN</td>\n",
       "      <td>2023-10-08</td>\n",
       "      <td>2023-10-27</td>\n",
       "      <td>19.0</td>\n",
       "      <td>2</td>\n",
       "      <td>รับมอบ_ขาดชำระไม่เกิน1ปี</td>\n",
       "    </tr>\n",
       "    <tr>\n",
       "      <th>1</th>\n",
       "      <td>51</td>\n",
       "      <td>33113024</td>\n",
       "      <td>021</td>\n",
       "      <td>นางผ่องนภา จันทร์เล็ก</td>\n",
       "      <td>7 หมู่ที่ 8</td>\n",
       "      <td>ต.ลำทับ อ.ลำทับ จ.กระบี่ 81120</td>\n",
       "      <td>29/01/2567</td>\n",
       "      <td>15/01</td>\n",
       "      <td>69900.0</td>\n",
       "      <td>/</td>\n",
       "      <td>...</td>\n",
       "      <td>25661229</td>\n",
       "      <td>1000003273558</td>\n",
       "      <td>3801600254087</td>\n",
       "      <td>0917245713</td>\n",
       "      <td>0969540717</td>\n",
       "      <td>2023-12-29</td>\n",
       "      <td>2024-01-29</td>\n",
       "      <td>31.0</td>\n",
       "      <td>4</td>\n",
       "      <td>รับเอง_ขาดชำระไม่เกิน1ปี</td>\n",
       "    </tr>\n",
       "    <tr>\n",
       "      <th>2</th>\n",
       "      <td>54</td>\n",
       "      <td>32715852</td>\n",
       "      <td>021</td>\n",
       "      <td>นางขวัญเรือน พิกุลทองอำไพ</td>\n",
       "      <td>24/69 หมู่ที่ 8 หมู่บ้านบางน้ำใส</td>\n",
       "      <td>ต.บางนายสี อ.ตะกั่วป่า จ.พังงา 82110</td>\n",
       "      <td>02/02/2567</td>\n",
       "      <td>17/06</td>\n",
       "      <td>82250.0</td>\n",
       "      <td>/</td>\n",
       "      <td>...</td>\n",
       "      <td>25670116</td>\n",
       "      <td>1000003289066</td>\n",
       "      <td>3820300080864</td>\n",
       "      <td>0872791461</td>\n",
       "      <td>0806902217</td>\n",
       "      <td>2024-01-16</td>\n",
       "      <td>2024-02-02</td>\n",
       "      <td>17.0</td>\n",
       "      <td>4</td>\n",
       "      <td>รับเอง_ขาดชำระไม่เกิน1ปี</td>\n",
       "    </tr>\n",
       "    <tr>\n",
       "      <th>3</th>\n",
       "      <td>98</td>\n",
       "      <td>22833875</td>\n",
       "      <td>021</td>\n",
       "      <td>นางต่อน้า หม้อน้ำร้อน</td>\n",
       "      <td>116/1 หมู่ที่ 3</td>\n",
       "      <td>ต.คลองเขม้า อ.เหนือคลอง จ.กระบี่ 81130</td>\n",
       "      <td>15/05/2567</td>\n",
       "      <td>07/01</td>\n",
       "      <td>14600.0</td>\n",
       "      <td>/</td>\n",
       "      <td>...</td>\n",
       "      <td>25670427</td>\n",
       "      <td>9000000678415</td>\n",
       "      <td>3810400343131</td>\n",
       "      <td>0872720751</td>\n",
       "      <td>NaN</td>\n",
       "      <td>2024-04-27</td>\n",
       "      <td>2024-05-15</td>\n",
       "      <td>18.0</td>\n",
       "      <td>4</td>\n",
       "      <td>รับเอง_ขาดชำระไม่เกิน1ปี</td>\n",
       "    </tr>\n",
       "  </tbody>\n",
       "</table>\n",
       "<p>4 rows × 21 columns</p>\n",
       "</div>"
      ],
      "text/plain": [
       "  ที่  กรมธรรม์ รหัสสาขา                  ชื่อ-สกุล  \\\n",
       "0   5  37727732      021         ด.ช.ฮาริส กิ่งเล็ก   \n",
       "1  51  33113024      021      นางผ่องนภา จันทร์เล็ก   \n",
       "2  54  32715852      021  นางขวัญเรือน พิกุลทองอำไพ   \n",
       "3  98  22833875      021      นางต่อน้า หม้อน้ำร้อน   \n",
       "\n",
       "                           ที่อยู่1                                ที่อยู่2  \\\n",
       "0                    3/3 หมู่ที่ 11     ต.กระบี่น้อย อ.เมือง จ.กระบี่ 81000   \n",
       "1                       7 หมู่ที่ 8          ต.ลำทับ อ.ลำทับ จ.กระบี่ 81120   \n",
       "2  24/69 หมู่ที่ 8 หมู่บ้านบางน้ำใส    ต.บางนายสี อ.ตะกั่วป่า จ.พังงา 82110   \n",
       "3                   116/1 หมู่ที่ 3  ต.คลองเขม้า อ.เหนือคลอง จ.กระบี่ 81130   \n",
       "\n",
       "  วันที่จ่ายเงิน     ปี  จำนวนเงิน รับเอง  ...   duedate       personid  \\\n",
       "0     27/10/2566  05/02    10792.0    NaN  ...  25661008  9000096667636   \n",
       "1     29/01/2567  15/01    69900.0      /  ...  25661229  1000003273558   \n",
       "2     02/02/2567  17/06    82250.0      /  ...  25670116  1000003289066   \n",
       "3     15/05/2567  07/01    14600.0      /  ...  25670427  9000000678415   \n",
       "\n",
       "     referenceid   phoneno_x   phoneno_y duedate_CTOD วันที่จ่ายเงิน_CTOD  \\\n",
       "0  1819901153850  0836440591         NaN   2023-10-08          2023-10-27   \n",
       "1  3801600254087  0917245713  0969540717   2023-12-29          2024-01-29   \n",
       "2  3820300080864  0872791461  0806902217   2024-01-16          2024-02-02   \n",
       "3  3810400343131  0872720751         NaN   2024-04-27          2024-05-15   \n",
       "\n",
       "  review_ขาดการชำระเบี้ย  Rules                    Remark  \n",
       "0                   19.0      2  รับมอบ_ขาดชำระไม่เกิน1ปี  \n",
       "1                   31.0      4  รับเอง_ขาดชำระไม่เกิน1ปี  \n",
       "2                   17.0      4  รับเอง_ขาดชำระไม่เกิน1ปี  \n",
       "3                   18.0      4  รับเอง_ขาดชำระไม่เกิน1ปี  \n",
       "\n",
       "[4 rows x 21 columns]"
      ]
     },
     "execution_count": 38,
     "metadata": {},
     "output_type": "execute_result"
    }
   ],
   "source": [
    "# รวมไฟล์\n",
    "ORD_30day_df = pd.concat([ORD_30day_201, ORD_30day_202 ,ORD_30day_203 ,ORD_30day_204], ignore_index=True)\n",
    "ORD_30day_df = ORD_30day_df[['ที่',\t'กรมธรรม์',\t'รหัสสาขา',\t'ชื่อ-สกุล',\t'ที่อยู่1',\t'ที่อยู่2',\t'วันที่จ่ายเงิน',\t'ปี',\t'จำนวนเงิน',\t'รับเอง',\t'รับมอบฯ',\t'duedate',\t'personid',\t'referenceid',\t'phoneno_x','phoneno_y',\t'duedate_CTOD',\t'วันที่จ่ายเงิน_CTOD',\t'review_ขาดการชำระเบี้ย',\t'Rules',\t'Remark']]\n",
    "ORD_30day_df"
   ]
  },
  {
   "cell_type": "code",
   "execution_count": 39,
   "metadata": {},
   "outputs": [],
   "source": [
    "now = datetime.now().strftime(\"%d%m%Y\")\n",
    "\n",
    "# แยก DataFrame ตาม Remark และจัดเรียงตามขนาดกลุ่ม\n",
    "grouped = ORD_30day_df.groupby(['Remark', 'Rules', 'รหัสสาขา'])\n",
    "sorted_groups = sorted(grouped, key=lambda x: len(x[1]))\n",
    "\n",
    "# export แบ่งไฟล์ตาม Remark\n",
    "for (remark, rules, branch_code), group in sorted_groups:\n",
    "    record_count = group.shape[0]  # นับจำนวน record หลังการแบ่งไฟล์\n",
    "    \n",
    "    file_name = f\"{rules}_30day_OPsurrenderORD_{branch_code}_{remark}_{now}_{record_count}.xlsx\"\n",
    "    file_path = os.path.join(path, file_name)\n",
    "    \n",
    "    # ส่งออก DataFrame เป็นไฟล์ Excel\n",
    "    group.to_excel(file_path, index=False)"
   ]
  },
  {
   "cell_type": "code",
   "execution_count": null,
   "metadata": {},
   "outputs": [],
   "source": []
  }
 ],
 "metadata": {
  "kernelspec": {
   "display_name": ".venv",
   "language": "python",
   "name": "python3"
  },
  "language_info": {
   "codemirror_mode": {
    "name": "ipython",
    "version": 3
   },
   "file_extension": ".py",
   "mimetype": "text/x-python",
   "name": "python",
   "nbconvert_exporter": "python",
   "pygments_lexer": "ipython3",
   "version": "3.12.4"
  }
 },
 "nbformat": 4,
 "nbformat_minor": 2
}
