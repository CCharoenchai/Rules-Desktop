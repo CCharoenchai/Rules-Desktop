{
 "cells": [
  {
   "cell_type": "code",
   "execution_count": 1,
   "metadata": {},
   "outputs": [],
   "source": [
    "import pandas as pd \n",
    "import datetime\n",
    "from datetime import datetime \n",
    "import os\n",
    "import warnings"
   ]
  },
  {
   "cell_type": "code",
   "execution_count": 2,
   "metadata": {},
   "outputs": [],
   "source": [
    "warnings.filterwarnings('ignore')"
   ]
  },
  {
   "cell_type": "markdown",
   "metadata": {},
   "source": [
    "#### ส่วนจัดการไฟล์"
   ]
  },
  {
   "cell_type": "code",
   "execution_count": 3,
   "metadata": {},
   "outputs": [],
   "source": [
    "#เปลี่ยน path\n",
    "path = r'C:\\Users\\charoenchai.chu\\Desktop\\Rules\\สาขาแม่ฮ่องสอน และสาขาแม่สะเรียง'\n",
    "file_name00 = 'ORD_422'\n",
    "\n",
    "file_path00 = os.path.join(path, file_name00 + '.xlsx')\n",
    "df=pd.read_excel(file_path00 , skiprows= 4)\n",
    "df['รหัสสาขา'] = file_name00[-3:]"
   ]
  },
  {
   "cell_type": "code",
   "execution_count": 6,
   "metadata": {},
   "outputs": [],
   "source": [
    "# ตั้งชื่อ field ใหม่ทั้งหมด\n",
    "new_column_names = ['ที่', 'กรมธรรม์', 'ชื่อ-สกุล', 'ที่อยู่1', 'วันที่จ่ายเงิน', 'ปี','จำนวนเงิน' ,'รับเอง' ,'รับมอบฯ' ,'null','รหัสสาขา']\n",
    "df.columns = new_column_names\n",
    "# แทนที่ค่า null ด้วยตัวก่อนหน้า\n",
    "# df.loc[df['กรมธรรม์'].str.len() < 6, 'กรมธรรม์'] = None\n",
    "# df['กรมธรรม์'] = df['กรมธรรม์'].fillna(method='ffill')\n",
    "df['กรมธรรม์'] = df['กรมธรรม์'].astype(str)\n",
    "length = df['กรมธรรม์'].str.len()\n",
    "df['กรมธรรม์'] = df['กรมธรรม์'].where(length >= 6, df['กรมธรรม์'].shift())\n",
    "# เปลี่ยน type ข้อมูล\n",
    "dtypes = {\n",
    "        \"ที่\": \"str\",\n",
    "        \"กรมธรรม์\": \"str\",\n",
    "        \"รหัสสาขา\": \"str\",\n",
    "        \"ชื่อ-สกุล\": \"object\",\n",
    "        \"ที่อยู่1\": \"object\", \n",
    "        # \"ที่อยู่2\": \"object\",\n",
    "        \"วันที่จ่ายเงิน\": \"object\",\n",
    "        \"ปี\": \"object\",\n",
    "        \"จำนวนเงิน\": \"str\",\n",
    "        \"รับเอง\": \"object\",\n",
    "        \"รับมอบฯ\": \"object\"\n",
    "    }\n",
    "df = df.astype(dtypes)\n",
    "# ตัดแถวว่างออก\n",
    "df = df[df['ที่อยู่1'] . notnull()]\n",
    "# df.head()"
   ]
  },
  {
   "cell_type": "code",
   "execution_count": 7,
   "metadata": {},
   "outputs": [],
   "source": [
    "# เอาที่เลขกรมธรรม์เป็น null ออก เอาไว้ไปเติมข้อมูล\n",
    "null_df = df[df['วันที่จ่ายเงิน'] . isnull()]\n",
    "null_df.head()\n",
    "null_field = ['กรมธรรม์' , 'ที่อยู่1']\n",
    "null_df = null_df[null_field]\n",
    "# เปลี่ยนชื่อ field\n",
    "null_df.columns = ['กรมธรรม์' , 'ที่อยู่2']\n",
    "# null_df.head()"
   ]
  },
  {
   "cell_type": "code",
   "execution_count": 8,
   "metadata": {},
   "outputs": [],
   "source": [
    "# ดึงเลขกรมธรรม์ที่ไม่ null\n",
    "notnull_df = df[df['วันที่จ่ายเงิน'] .notnull()]\n",
    "# notnull_df.head()"
   ]
  },
  {
   "cell_type": "code",
   "execution_count": 9,
   "metadata": {},
   "outputs": [],
   "source": [
    "# ่join data\n",
    "data_df = pd.merge(notnull_df, null_df, on='กรมธรรม์', how='left')\n",
    "\n",
    "# เรียงลำดับคอลัมน์ใหม่ \n",
    "column_order = ['ที่', 'กรมธรรม์','รหัสสาขา' , 'ชื่อ-สกุล', 'ที่อยู่1', 'ที่อยู่2', 'วันที่จ่ายเงิน', 'ปี','จำนวนเงิน' ,'รับเอง' ,'รับมอบฯ' ,'null']\n",
    "data_df = data_df[column_order]\n",
    "\n",
    "# ตัด culumn null ออก\n",
    "data_df = data_df[['ที่', 'กรมธรรม์','รหัสสาขา' , 'ชื่อ-สกุล', 'ที่อยู่1', 'ที่อยู่2', 'วันที่จ่ายเงิน', 'ปี','จำนวนเงิน' ,'รับเอง' ,'รับมอบฯ']]\n",
    "# data_df.head()"
   ]
  },
  {
   "cell_type": "code",
   "execution_count": 10,
   "metadata": {},
   "outputs": [],
   "source": [
    "# ตัดแถวที่ไม่ต้องการ\n",
    "data_df_finish = data_df[data_df['ปี'] .notnull()]"
   ]
  },
  {
   "cell_type": "code",
   "execution_count": 11,
   "metadata": {},
   "outputs": [],
   "source": [
    "# data_df_finish.to_excel(os.path.join(path, file_name00 + '&' + file_name01 + '_finish' + '.xlsx'),index = False)"
   ]
  },
  {
   "cell_type": "markdown",
   "metadata": {},
   "source": [
    "#### ส่วน ACL"
   ]
  },
  {
   "cell_type": "markdown",
   "metadata": {},
   "source": [
    "##### จัดไฟล์ตาม ACL"
   ]
  },
  {
   "cell_type": "code",
   "execution_count": 12,
   "metadata": {},
   "outputs": [],
   "source": [
    "# เอาไว้อ่าน name\n",
    "#เปลี่ยน path\n",
    "path_name = r'C:\\Users\\charoenchai.chu\\Desktop\\Rules'\n",
    "file_name_name = 'Name_test_DeleteField'\n",
    "\n",
    "name_file = os.path.join(path_name, file_name_name + '.txt')\n",
    "df_name = pd.read_csv(name_file , delimiter='%' , header=None, names=['nameid', 'personid'])\n",
    "df_name['nameid']= df_name['nameid'].astype(str).str.zfill(13)\n",
    "df_name['personid'] = df_name['personid'].astype('str').str.zfill(13)\n",
    "# df_name"
   ]
  },
  {
   "cell_type": "code",
   "execution_count": 13,
   "metadata": {},
   "outputs": [],
   "source": [
    "# เอาไว้อ่าน ordmast\n",
    "#เปลี่ยน path\n",
    "path_ord = r'C:\\Users\\charoenchai.chu\\Desktop\\Rules'\n",
    "file_ord = 'ordmast_tast_DeleteField'\n",
    "\n",
    "ord_file = os.path.join(path_ord, file_ord + '.txt')\n",
    "df_ord_ORG = pd.read_csv(ord_file , delimiter= '%' , header=None, names=['กรมธรรม์','nameid', 'branch','effectivedate', 'duedate', 'addressid'])\n",
    "\n",
    "df_ord = df_ord_ORG[['กรมธรรม์','nameid', 'branch', 'duedate', 'addressid',]]\n",
    "\n",
    "df_ord['กรมธรรม์']= df_ord['กรมธรรม์'].astype(str).str.zfill(8)\n",
    "df_ord['nameid']= df_ord['nameid'].astype(str).str.zfill(13)\n",
    "df_ord['branch'] = df_ord['branch'].astype(str).str.zfill(3)\n",
    "df_ord['addressid'] = df_ord['addressid'].astype(str).str.zfill(10)\n",
    "# df_ord\n"
   ]
  },
  {
   "cell_type": "code",
   "execution_count": 14,
   "metadata": {},
   "outputs": [],
   "source": [
    "# เอาไว้อ่าน person\n",
    "#เปลี่ยน path\n",
    "path_person = r'C:\\Users\\charoenchai.chu\\Desktop\\Rules'\n",
    "file_person = 'person_test_deleatfield'\n",
    "\n",
    "person_file = os.path.join(path_person, file_person + '.txt')\n",
    "df_person = pd.read_csv(person_file ,encoding='Windows-1252' , delimiter ='%' , header=None, names=['personid', 'referenceid'])\n",
    "df_person['personid'] = df_person['personid'].astype(str).str.zfill(13)\n",
    "df_person['referenceid'] = df_person['referenceid'].astype(str).str.zfill(13)\n",
    "# df_person"
   ]
  },
  {
   "cell_type": "code",
   "execution_count": 15,
   "metadata": {},
   "outputs": [],
   "source": [
    "# เอาไว้อ่าน person\n",
    "#เปลี่ยน path\n",
    "path_phon = r'C:\\Users\\charoenchai.chu\\Desktop\\Rules'\n",
    "file_phon = 'phon_test_deletefield'\n",
    "\n",
    "phon_file = os.path.join(path_phon, file_phon + '.txt')\n",
    "df_phon = pd.read_csv(phon_file ,encoding='Windows-1252' , delimiter ='%' , header=None, names=['addressid', 'phoneno'])\n",
    "df_phon['addressid'] = df_phon['addressid'].astype(str).str.zfill(10)\n",
    "df_phon['phoneno'] = df_phon['phoneno'].astype(str).str.zfill(10)\n",
    "# df_phon"
   ]
  },
  {
   "cell_type": "code",
   "execution_count": 16,
   "metadata": {},
   "outputs": [],
   "source": [
    "file_df = pd.merge(data_df_finish,df_ord , on= 'กรมธรรม์' , how='left')\n",
    "file_df1 = pd.merge(file_df ,df_name , on= 'nameid' , how='left')\n",
    "file_df2 = pd.merge(file_df1 ,df_person , on= 'personid' , how='left')\n",
    "file_df3 = pd.merge(file_df2 ,df_phon , on= 'addressid' , how='left')\n",
    "# file_df3.head()"
   ]
  },
  {
   "cell_type": "code",
   "execution_count": 17,
   "metadata": {},
   "outputs": [],
   "source": [
    "acl_df = file_df3[['ที่','กรมธรรม์','รหัสสาขา','ชื่อ-สกุล', 'ที่อยู่1','ที่อยู่2', 'วันที่จ่ายเงิน','ปี','จำนวนเงิน','รับเอง', 'รับมอบฯ','duedate','personid','referenceid','phoneno']]\n",
    "\n",
    "acl_df['จำนวนเงิน'] = acl_df['จำนวนเงิน'].astype(str).str.replace(',', '').astype(float)\n",
    "\n",
    "dtypes ={\"duedate\" : \"object\"}\n",
    "acl_df = acl_df.astype(dtypes)\n",
    "# acl_df.head(1)"
   ]
  },
  {
   "cell_type": "code",
   "execution_count": 18,
   "metadata": {},
   "outputs": [],
   "source": [
    "# ฟังก์ชันแปลงวันที่จาก พ.ศ. เป็น ค.ศ.\n",
    "def convert_date(date_str):\n",
    "    year = int(date_str[:4]) - 543  # แปลงปีจาก พ.ศ. เป็น ค.ศ.\n",
    "    month = date_str[4:6]\n",
    "    day = date_str[6:8]\n",
    "    return f\"{year}/{month}/{day}\"\n",
    "\n",
    "acl_df['duedate'] = acl_df['duedate'].astype(str)\n",
    "# สร้างคอลัมน์ใหม่ใน DataFrame\n",
    "acl_df['duedate_CTOD'] = acl_df['duedate'].apply(convert_date)\n",
    "# acl_df.head()"
   ]
  },
  {
   "cell_type": "code",
   "execution_count": 19,
   "metadata": {},
   "outputs": [],
   "source": [
    "# ฟังก์ชันแปลงวันที่\n",
    "def convert_date(date_str):\n",
    "    if pd.notna(date_str):\n",
    "        try:\n",
    "            day, month, year = map(int, date_str.split('/'))\n",
    "            year -= 543  # ปรับปีพุทธศักราชเป็นคริสต์ศักราช\n",
    "            return f\"{year:04d}/{month:02d}/{day:02d}\"\n",
    "        except ValueError:\n",
    "            return None  # คืนค่า None หากไม่สามารถแปลงได้\n",
    "    return None\n",
    "\n",
    "# สร้างคอลัมน์ใหม่ใน DataFrame\n",
    "acl_df['วันที่จ่ายเงิน_CTOD'] = acl_df['วันที่จ่ายเงิน'].apply(convert_date)\n",
    "# acl_df.head(1)"
   ]
  },
  {
   "cell_type": "code",
   "execution_count": 20,
   "metadata": {},
   "outputs": [],
   "source": [
    "# Convert date format ให้เป็น datetime format\n",
    "acl_df['วันที่จ่ายเงิน_CTOD'] = pd.to_datetime(acl_df['วันที่จ่ายเงิน_CTOD'], format='%Y/%m/%d')\n",
    "acl_df['duedate_CTOD'] = pd.to_datetime(acl_df['duedate_CTOD'], format='%Y/%m/%d')\n",
    "\n",
    "# หาความต่างของวันที่\n",
    "acl_df['review_ขาดการชำระเบี้ย'] = (acl_df['วันที่จ่ายเงิน_CTOD'] - acl_df['duedate_CTOD']).dt.days\n",
    "acl_df = acl_df.drop_duplicates()\n",
    "# acl_df"
   ]
  },
  {
   "cell_type": "markdown",
   "metadata": {},
   "source": [
    "##### Rules2 ORD"
   ]
  },
  {
   "cell_type": "code",
   "execution_count": 21,
   "metadata": {},
   "outputs": [],
   "source": [
    "# (review_ขาดการชำระเบี้ย > 365) AND (รับมอบฯ = \"/\")\n",
    "Rules_ORD_201 = acl_df[(acl_df['review_ขาดการชำระเบี้ย'] > 365) & \n",
    "                         (acl_df['รับมอบฯ'] == \"/\")]\n",
    "Rules_ORD_201['Rules']= 1\n",
    "Rules_ORD_201['Remark'] = 'รับมอบ_ขาดชำระเกิน1ปี'\n",
    "# Rules_ORD_201"
   ]
  },
  {
   "cell_type": "code",
   "execution_count": 22,
   "metadata": {},
   "outputs": [],
   "source": [
    "# (((review_ขาดการชำระเบี้ย >= 0) AND (review_ขาดการชำระเบี้ย <= 365))) AND (รับมอบฯ = \"/\")\n",
    "Rules_ORD_202 = acl_df[(acl_df['review_ขาดการชำระเบี้ย'] <= 365) &\n",
    "                         (acl_df['review_ขาดการชำระเบี้ย'] >  0 ) &\n",
    "                         (acl_df['รับมอบฯ'] == \"/\")]\n",
    "Rules_ORD_202['Rules']= 2\n",
    "Rules_ORD_202['Remark'] = 'รับมอบ_ขาดชำระไม่เกิน1ปี'\n",
    "# Rules_ORD_202.head()"
   ]
  },
  {
   "cell_type": "code",
   "execution_count": 23,
   "metadata": {},
   "outputs": [],
   "source": [
    "#  (review_ขาดการชำระเบี้ย > 365) AND (รับเอง = \"/\")\n",
    "Rules_ORD_203 = acl_df[(acl_df['review_ขาดการชำระเบี้ย'] > 365) &\n",
    "                         (acl_df['รับเอง'] == \"/\")]\n",
    "Rules_ORD_203['Rules']= 3\n",
    "Rules_ORD_203['Remark'] = 'รับเอง_ขาดชำระเกิน1ปี'\n",
    "# Rules_ORD_203.head()"
   ]
  },
  {
   "cell_type": "code",
   "execution_count": 24,
   "metadata": {},
   "outputs": [],
   "source": [
    "# (((review_ขาดการชำระเบี้ย >= 0) AND (review_ขาดการชำระเบี้ย <= 365))) AND (รับเอง = \"/\")\n",
    "Rules_ORD_204 = acl_df[(acl_df['review_ขาดการชำระเบี้ย'] <= 365) &\n",
    "                         (acl_df['review_ขาดการชำระเบี้ย'] >  0 ) &\n",
    "                         (acl_df['รับเอง'] == \"/\")]\n",
    "Rules_ORD_204['Rules']= 4\n",
    "Rules_ORD_204['Remark'] = 'รับเอง_ขาดชำระไม่เกิน1ปี'\n",
    "# Rules_ORD_204.head()"
   ]
  },
  {
   "cell_type": "code",
   "execution_count": 25,
   "metadata": {},
   "outputs": [],
   "source": [
    "# รวมไฟล์\n",
    "Rules2_ORD_df = pd.concat([Rules_ORD_201, Rules_ORD_202 ,Rules_ORD_203 ,Rules_ORD_204], ignore_index=True)"
   ]
  },
  {
   "cell_type": "code",
   "execution_count": 26,
   "metadata": {},
   "outputs": [],
   "source": [
    "Rules2_ORD_df['phoneno'] = Rules2_ORD_df['phoneno'].astype(str).str.replace('.0', '')\n",
    "if len(Rules2_ORD_df['phoneno']) >= 8 :\n",
    "       Rules2_ORD_df['phoneno'] = Rules2_ORD_df['phoneno'].apply(lambda x: '0' + x if len(x) > 7 else x)\n",
    "Rules2_ORD_df['phoneno'] = Rules2_ORD_df['phoneno'].astype(str).str.replace('nan', '')\n",
    "Rules2_ORD_df['referenceid'] = Rules2_ORD_df['referenceid'].astype(str)\n",
    "Rules2_ORD_df['personid'] = Rules2_ORD_df['personid'].astype(str)\n",
    "# Rules2_ORD_df['duedate'] = pd.to_datetime(Rules2_ORD_df['duedate'], format='%d/%m/%Y')\n",
    "Rules2_ORD_df = Rules2_ORD_df.sort_values(by=['Rules', 'จำนวนเงิน'], ascending=[True, False])\n",
    "# Rules2_ORD_df.head(2)"
   ]
  },
  {
   "cell_type": "code",
   "execution_count": 27,
   "metadata": {},
   "outputs": [],
   "source": [
    "now = datetime.now().strftime(\"%d%m%Y\")\n",
    "\n",
    "# แยก DataFrame ตาม Remark และจัดเรียงตามขนาดกลุ่ม\n",
    "grouped = Rules2_ORD_df.groupby(['Remark', 'Rules', 'รหัสสาขา'])\n",
    "sorted_groups = sorted(grouped, key=lambda x: len(x[1]))\n",
    "\n",
    "# export แบ่งไฟล์ตาม Remark\n",
    "for (remark, rules, branch_code), group in sorted_groups:\n",
    "    record_count = group.shape[0]  # นับจำนวน record หลังการแบ่งไฟล์\n",
    "    \n",
    "    file_name = f\"{rules}_OPsurrenderORD_{branch_code}_{remark}_{now}_{record_count}.xlsx\"\n",
    "    file_path = os.path.join(path, file_name)\n",
    "    \n",
    "    # ส่งออก DataFrame เป็นไฟล์ Excel\n",
    "    group.to_excel(file_path, index=False)"
   ]
  },
  {
   "cell_type": "markdown",
   "metadata": {},
   "source": [
    "##### ส่วนจาก Rule ข้อ 11 เป็นต้นไป"
   ]
  },
  {
   "cell_type": "code",
   "execution_count": 28,
   "metadata": {},
   "outputs": [],
   "source": [
    "# ฟังก์ชันแปลงวันที่จาก พ.ศ. เป็น ค.ศ.\n",
    "def convert_date(date_str):\n",
    "    year = int(date_str[:4]) - 543  # แปลงปีจาก พ.ศ. เป็น ค.ศ.\n",
    "    month = date_str[4:6]\n",
    "    day = date_str[6:8]\n",
    "    return f\"{year}/{month}/{day}\"\n",
    "\n",
    "df_ord_ORG['effectivedate'] = df_ord_ORG['effectivedate'].astype(str)\n",
    "# สร้างคอลัมน์ใหม่ใน DataFrame\n",
    "df_ord_ORG['effectivedate_CTOD'] = df_ord_ORG['effectivedate'].apply(convert_date)"
   ]
  },
  {
   "cell_type": "code",
   "execution_count": 29,
   "metadata": {},
   "outputs": [],
   "source": [
    "now = datetime.now().strftime(\"%d%m%Y\")\n",
    "\n",
    "# กำหนดวันที่เริ่มต้น\n",
    "start_date = '2022-01-01'\n",
    "\n",
    "# แปลงคอลัมน์วันที่ให้เป็น datetime\n",
    "df_ord_ORG['effectivedate_CTOD'] = pd.to_datetime(df_ord_ORG['effectivedate_CTOD'])\n",
    "\n",
    "# กรองข้อมูลตามช่วงวันที่\n",
    "df_ord_30day = df_ord_ORG[df_ord_ORG['effectivedate_CTOD'] >= start_date]\n",
    "# df_ord_30day"
   ]
  },
  {
   "cell_type": "code",
   "execution_count": 30,
   "metadata": {},
   "outputs": [],
   "source": [
    "df_ord_30day['nameid']= df_ord_30day['nameid'].astype(str).str.zfill(13)\n",
    "df_ord_30day01 = pd.merge (df_ord_30day, df_name , on= 'nameid', how= 'left')\n",
    "\n",
    "df_ord_30day01['personid'] = df_ord_30day01['personid'].astype('str').str.zfill(13)\n",
    "df_ord_30day02 = pd.merge (df_ord_30day01,df_person , on= 'personid' , how= 'left')\n",
    "df_ord_30day02 = df_ord_30day02[['effectivedate_CTOD','referenceid']]\n",
    "# df_ord_30day02"
   ]
  },
  {
   "cell_type": "code",
   "execution_count": 31,
   "metadata": {},
   "outputs": [],
   "source": [
    "# join กับ data table หลัก\n",
    "df_ord_30day02['referenceid'] = df_ord_30day02['referenceid'].astype(str).str.zfill(13)\n",
    "df_ord_30day03 = pd.merge (df_ord_30day02,acl_df , on= 'referenceid' , how='left')\n",
    "# df_ord_30day03"
   ]
  },
  {
   "cell_type": "code",
   "execution_count": 32,
   "metadata": {},
   "outputs": [],
   "source": [
    "df_30day_T = df_ord_30day03[df_ord_30day03['ที่'].notnull()]\n",
    "# df_30day_T.head()"
   ]
  },
  {
   "cell_type": "code",
   "execution_count": 33,
   "metadata": {},
   "outputs": [
    {
     "data": {
      "text/html": [
       "<div>\n",
       "<style scoped>\n",
       "    .dataframe tbody tr th:only-of-type {\n",
       "        vertical-align: middle;\n",
       "    }\n",
       "\n",
       "    .dataframe tbody tr th {\n",
       "        vertical-align: top;\n",
       "    }\n",
       "\n",
       "    .dataframe thead th {\n",
       "        text-align: right;\n",
       "    }\n",
       "</style>\n",
       "<table border=\"1\" class=\"dataframe\">\n",
       "  <thead>\n",
       "    <tr style=\"text-align: right;\">\n",
       "      <th></th>\n",
       "      <th>effectivedate_CTOD</th>\n",
       "      <th>referenceid</th>\n",
       "      <th>ที่</th>\n",
       "      <th>กรมธรรม์</th>\n",
       "      <th>รหัสสาขา</th>\n",
       "      <th>ชื่อ-สกุล</th>\n",
       "      <th>ที่อยู่1</th>\n",
       "      <th>ที่อยู่2</th>\n",
       "      <th>วันที่จ่ายเงิน</th>\n",
       "      <th>ปี</th>\n",
       "      <th>จำนวนเงิน</th>\n",
       "      <th>รับเอง</th>\n",
       "      <th>รับมอบฯ</th>\n",
       "      <th>duedate</th>\n",
       "      <th>personid</th>\n",
       "      <th>phoneno</th>\n",
       "      <th>duedate_CTOD</th>\n",
       "      <th>วันที่จ่ายเงิน_CTOD</th>\n",
       "      <th>review_ขาดการชำระเบี้ย</th>\n",
       "      <th>review_เคสใหม่</th>\n",
       "    </tr>\n",
       "  </thead>\n",
       "  <tbody>\n",
       "    <tr>\n",
       "      <th>60916</th>\n",
       "      <td>2023-10-20</td>\n",
       "      <td>5580600079640</td>\n",
       "      <td>2</td>\n",
       "      <td>21817311</td>\n",
       "      <td>422</td>\n",
       "      <td>นายสถาพร สิริมาลัย</td>\n",
       "      <td>15/11 หมู่ที่ 1 หมู่บ้านจอมกิตติ</td>\n",
       "      <td>ต.แม่ยวม อ.แม่สะเรียง จ.แม่ฮ่องสอน 58110</td>\n",
       "      <td>04/10/2566</td>\n",
       "      <td>14/10</td>\n",
       "      <td>63100.0</td>\n",
       "      <td>/</td>\n",
       "      <td>NaN</td>\n",
       "      <td>25660924</td>\n",
       "      <td>9000000141477</td>\n",
       "      <td>0869247515</td>\n",
       "      <td>2023-09-24</td>\n",
       "      <td>2023-10-04</td>\n",
       "      <td>10.0</td>\n",
       "      <td>-16</td>\n",
       "    </tr>\n",
       "    <tr>\n",
       "      <th>412839</th>\n",
       "      <td>2023-09-30</td>\n",
       "      <td>1580400169570</td>\n",
       "      <td>1</td>\n",
       "      <td>23203755</td>\n",
       "      <td>422</td>\n",
       "      <td>นายอชิระ ขวัญคำ</td>\n",
       "      <td>ื81/3 หมู่ที่ 3 ซอย3 ถนนหลวง108</td>\n",
       "      <td>ต.แม่สะเรียง อ.แม่สะเรียง จ.แม่ฮ่องสอน 58110</td>\n",
       "      <td>25/09/2566</td>\n",
       "      <td>04/05</td>\n",
       "      <td>3817.0</td>\n",
       "      <td>/</td>\n",
       "      <td>NaN</td>\n",
       "      <td>25660830</td>\n",
       "      <td>9000095382880</td>\n",
       "      <td>0623097849</td>\n",
       "      <td>2023-08-30</td>\n",
       "      <td>2023-09-25</td>\n",
       "      <td>26.0</td>\n",
       "      <td>-5</td>\n",
       "    </tr>\n",
       "    <tr>\n",
       "      <th>412840</th>\n",
       "      <td>2023-09-30</td>\n",
       "      <td>1580400169570</td>\n",
       "      <td>1</td>\n",
       "      <td>23203755</td>\n",
       "      <td>422</td>\n",
       "      <td>นายอชิระ ขวัญคำ</td>\n",
       "      <td>ื81/3 หมู่ที่ 3 ซอย3 ถนนหลวง108</td>\n",
       "      <td>ต.แม่สะเรียง อ.แม่สะเรียง จ.แม่ฮ่องสอน 58110</td>\n",
       "      <td>25/09/2566</td>\n",
       "      <td>04/05</td>\n",
       "      <td>3817.0</td>\n",
       "      <td>/</td>\n",
       "      <td>NaN</td>\n",
       "      <td>25660830</td>\n",
       "      <td>9000095382880</td>\n",
       "      <td>0636565686</td>\n",
       "      <td>2023-08-30</td>\n",
       "      <td>2023-09-25</td>\n",
       "      <td>26.0</td>\n",
       "      <td>-5</td>\n",
       "    </tr>\n",
       "    <tr>\n",
       "      <th>412841</th>\n",
       "      <td>2023-09-30</td>\n",
       "      <td>1580400169570</td>\n",
       "      <td>1</td>\n",
       "      <td>23203755</td>\n",
       "      <td>422</td>\n",
       "      <td>นายอชิระ ขวัญคำ</td>\n",
       "      <td>ื81/3 หมู่ที่ 3 ซอย3 ถนนหลวง108</td>\n",
       "      <td>ต.แม่สะเรียง อ.แม่สะเรียง จ.แม่ฮ่องสอน 58110</td>\n",
       "      <td>25/09/2566</td>\n",
       "      <td>04/05</td>\n",
       "      <td>3817.0</td>\n",
       "      <td>/</td>\n",
       "      <td>NaN</td>\n",
       "      <td>25660830</td>\n",
       "      <td>9000095382880</td>\n",
       "      <td>0632544232</td>\n",
       "      <td>2023-08-30</td>\n",
       "      <td>2023-09-25</td>\n",
       "      <td>26.0</td>\n",
       "      <td>-5</td>\n",
       "    </tr>\n",
       "  </tbody>\n",
       "</table>\n",
       "</div>"
      ],
      "text/plain": [
       "       effectivedate_CTOD    referenceid ที่  กรมธรรม์ รหัสสาขา  \\\n",
       "60916          2023-10-20  5580600079640   2  21817311      422   \n",
       "412839         2023-09-30  1580400169570   1  23203755      422   \n",
       "412840         2023-09-30  1580400169570   1  23203755      422   \n",
       "412841         2023-09-30  1580400169570   1  23203755      422   \n",
       "\n",
       "                 ชื่อ-สกุล                          ที่อยู่1  \\\n",
       "60916   นายสถาพร สิริมาลัย  15/11 หมู่ที่ 1 หมู่บ้านจอมกิตติ   \n",
       "412839     นายอชิระ ขวัญคำ   ื81/3 หมู่ที่ 3 ซอย3 ถนนหลวง108   \n",
       "412840     นายอชิระ ขวัญคำ   ื81/3 หมู่ที่ 3 ซอย3 ถนนหลวง108   \n",
       "412841     นายอชิระ ขวัญคำ   ื81/3 หมู่ที่ 3 ซอย3 ถนนหลวง108   \n",
       "\n",
       "                                            ที่อยู่2 วันที่จ่ายเงิน     ปี  \\\n",
       "60916       ต.แม่ยวม อ.แม่สะเรียง จ.แม่ฮ่องสอน 58110     04/10/2566  14/10   \n",
       "412839  ต.แม่สะเรียง อ.แม่สะเรียง จ.แม่ฮ่องสอน 58110     25/09/2566  04/05   \n",
       "412840  ต.แม่สะเรียง อ.แม่สะเรียง จ.แม่ฮ่องสอน 58110     25/09/2566  04/05   \n",
       "412841  ต.แม่สะเรียง อ.แม่สะเรียง จ.แม่ฮ่องสอน 58110     25/09/2566  04/05   \n",
       "\n",
       "        จำนวนเงิน รับเอง รับมอบฯ   duedate       personid     phoneno  \\\n",
       "60916     63100.0      /     NaN  25660924  9000000141477  0869247515   \n",
       "412839     3817.0      /     NaN  25660830  9000095382880  0623097849   \n",
       "412840     3817.0      /     NaN  25660830  9000095382880  0636565686   \n",
       "412841     3817.0      /     NaN  25660830  9000095382880  0632544232   \n",
       "\n",
       "       duedate_CTOD วันที่จ่ายเงิน_CTOD  review_ขาดการชำระเบี้ย  \\\n",
       "60916    2023-09-24          2023-10-04                    10.0   \n",
       "412839   2023-08-30          2023-09-25                    26.0   \n",
       "412840   2023-08-30          2023-09-25                    26.0   \n",
       "412841   2023-08-30          2023-09-25                    26.0   \n",
       "\n",
       "        review_เคสใหม่  \n",
       "60916              -16  \n",
       "412839              -5  \n",
       "412840              -5  \n",
       "412841              -5  "
      ]
     },
     "execution_count": 33,
     "metadata": {},
     "output_type": "execute_result"
    }
   ],
   "source": [
    "# Convert date format ให้เป็น datetime format\n",
    "df_30day_T['วันที่จ่ายเงิน_CTOD'] = pd.to_datetime(df_30day_T['วันที่จ่ายเงิน_CTOD'], format='%Y/%m/%d')\n",
    "df_30day_T['effectivedate_CTOD'] = pd.to_datetime(df_30day_T['effectivedate_CTOD'], format='%Y/%m/%d')\n",
    "\n",
    "# หาความต่างของวันที่\n",
    "df_30day_T['review_เคสใหม่'] = (df_30day_T['วันที่จ่ายเงิน_CTOD'] - df_30day_T['effectivedate_CTOD']).dt.days\n",
    "df_30day_T = df_30day_T.drop_duplicates()\n",
    "df_30day_T = df_30day_T[(df_30day_T['review_เคสใหม่'] <= 30) &\n",
    "                        (df_30day_T['review_เคสใหม่'] >= -30)]\n",
    "df_30day_T"
   ]
  },
  {
   "cell_type": "markdown",
   "metadata": {},
   "source": [
    "##### Rules 30 วัน"
   ]
  },
  {
   "cell_type": "code",
   "execution_count": 34,
   "metadata": {},
   "outputs": [],
   "source": [
    "# (review_ขาดการชำระเบี้ย > 365) AND (รับมอบฯ = \"/\")\n",
    "ORD_30day_201 = df_30day_T[(df_30day_T['review_ขาดการชำระเบี้ย'] > 365) & \n",
    "                         (df_30day_T['รับมอบฯ'] == \"/\")]\n",
    "ORD_30day_201['Rules']= 1\n",
    "ORD_30day_201['Remark'] = 'รับมอบ_ขาดชำระเกิน1ปี'\n",
    "# Rules_ORD_201"
   ]
  },
  {
   "cell_type": "code",
   "execution_count": 35,
   "metadata": {},
   "outputs": [],
   "source": [
    "# (((review_ขาดการชำระเบี้ย >= 0) AND (review_ขาดการชำระเบี้ย <= 365))) AND (รับมอบฯ = \"/\")\n",
    "ORD_30day_202 = df_30day_T[(df_30day_T['review_ขาดการชำระเบี้ย'] <= 365) &\n",
    "                         (df_30day_T['review_ขาดการชำระเบี้ย'] >  0 ) &\n",
    "                         (df_30day_T['รับมอบฯ'] == \"/\")]\n",
    "ORD_30day_202['Rules']= 2\n",
    "ORD_30day_202['Remark'] = 'รับมอบ_ขาดชำระไม่เกิน1ปี'\n",
    "# Rules_ORD_202.head()"
   ]
  },
  {
   "cell_type": "code",
   "execution_count": 36,
   "metadata": {},
   "outputs": [],
   "source": [
    "#  (review_ขาดการชำระเบี้ย > 365) AND (รับเอง = \"/\")\n",
    "ORD_30day_203 = df_30day_T[(df_30day_T['review_ขาดการชำระเบี้ย'] > 365) &\n",
    "                         (df_30day_T['รับเอง'] == \"/\")]\n",
    "ORD_30day_203['Rules']= 3\n",
    "ORD_30day_203['Remark'] = 'รับเอง_ขาดชำระเกิน1ปี'\n",
    "# Rules_ORD_203.head()"
   ]
  },
  {
   "cell_type": "code",
   "execution_count": 37,
   "metadata": {},
   "outputs": [],
   "source": [
    "# (((review_ขาดการชำระเบี้ย >= 0) AND (review_ขาดการชำระเบี้ย <= 365))) AND (รับเอง = \"/\")\n",
    "ORD_30day_204 = df_30day_T[(df_30day_T['review_ขาดการชำระเบี้ย'] <= 365) &\n",
    "                         (df_30day_T['review_ขาดการชำระเบี้ย'] >  0 ) &\n",
    "                         (df_30day_T['รับเอง'] == \"/\")]\n",
    "ORD_30day_204['Rules']= 4\n",
    "ORD_30day_204['Remark'] = 'รับเอง_ขาดชำระไม่เกิน1ปี'\n",
    "# ORD_30day_204.head()"
   ]
  },
  {
   "cell_type": "code",
   "execution_count": 38,
   "metadata": {},
   "outputs": [
    {
     "data": {
      "text/html": [
       "<div>\n",
       "<style scoped>\n",
       "    .dataframe tbody tr th:only-of-type {\n",
       "        vertical-align: middle;\n",
       "    }\n",
       "\n",
       "    .dataframe tbody tr th {\n",
       "        vertical-align: top;\n",
       "    }\n",
       "\n",
       "    .dataframe thead th {\n",
       "        text-align: right;\n",
       "    }\n",
       "</style>\n",
       "<table border=\"1\" class=\"dataframe\">\n",
       "  <thead>\n",
       "    <tr style=\"text-align: right;\">\n",
       "      <th></th>\n",
       "      <th>effectivedate_CTOD</th>\n",
       "      <th>referenceid</th>\n",
       "      <th>ที่</th>\n",
       "      <th>กรมธรรม์</th>\n",
       "      <th>รหัสสาขา</th>\n",
       "      <th>ชื่อ-สกุล</th>\n",
       "      <th>ที่อยู่1</th>\n",
       "      <th>ที่อยู่2</th>\n",
       "      <th>วันที่จ่ายเงิน</th>\n",
       "      <th>ปี</th>\n",
       "      <th>...</th>\n",
       "      <th>รับมอบฯ</th>\n",
       "      <th>duedate</th>\n",
       "      <th>personid</th>\n",
       "      <th>phoneno</th>\n",
       "      <th>duedate_CTOD</th>\n",
       "      <th>วันที่จ่ายเงิน_CTOD</th>\n",
       "      <th>review_ขาดการชำระเบี้ย</th>\n",
       "      <th>review_เคสใหม่</th>\n",
       "      <th>Rules</th>\n",
       "      <th>Remark</th>\n",
       "    </tr>\n",
       "  </thead>\n",
       "  <tbody>\n",
       "    <tr>\n",
       "      <th>0</th>\n",
       "      <td>2023-10-20</td>\n",
       "      <td>5580600079640</td>\n",
       "      <td>2</td>\n",
       "      <td>21817311</td>\n",
       "      <td>422</td>\n",
       "      <td>นายสถาพร สิริมาลัย</td>\n",
       "      <td>15/11 หมู่ที่ 1 หมู่บ้านจอมกิตติ</td>\n",
       "      <td>ต.แม่ยวม อ.แม่สะเรียง จ.แม่ฮ่องสอน 58110</td>\n",
       "      <td>04/10/2566</td>\n",
       "      <td>14/10</td>\n",
       "      <td>...</td>\n",
       "      <td>NaN</td>\n",
       "      <td>25660924</td>\n",
       "      <td>9000000141477</td>\n",
       "      <td>0869247515</td>\n",
       "      <td>2023-09-24</td>\n",
       "      <td>2023-10-04</td>\n",
       "      <td>10.0</td>\n",
       "      <td>-16</td>\n",
       "      <td>4</td>\n",
       "      <td>รับเอง_ขาดชำระไม่เกิน1ปี</td>\n",
       "    </tr>\n",
       "    <tr>\n",
       "      <th>1</th>\n",
       "      <td>2023-09-30</td>\n",
       "      <td>1580400169570</td>\n",
       "      <td>1</td>\n",
       "      <td>23203755</td>\n",
       "      <td>422</td>\n",
       "      <td>นายอชิระ ขวัญคำ</td>\n",
       "      <td>ื81/3 หมู่ที่ 3 ซอย3 ถนนหลวง108</td>\n",
       "      <td>ต.แม่สะเรียง อ.แม่สะเรียง จ.แม่ฮ่องสอน 58110</td>\n",
       "      <td>25/09/2566</td>\n",
       "      <td>04/05</td>\n",
       "      <td>...</td>\n",
       "      <td>NaN</td>\n",
       "      <td>25660830</td>\n",
       "      <td>9000095382880</td>\n",
       "      <td>0623097849</td>\n",
       "      <td>2023-08-30</td>\n",
       "      <td>2023-09-25</td>\n",
       "      <td>26.0</td>\n",
       "      <td>-5</td>\n",
       "      <td>4</td>\n",
       "      <td>รับเอง_ขาดชำระไม่เกิน1ปี</td>\n",
       "    </tr>\n",
       "    <tr>\n",
       "      <th>2</th>\n",
       "      <td>2023-09-30</td>\n",
       "      <td>1580400169570</td>\n",
       "      <td>1</td>\n",
       "      <td>23203755</td>\n",
       "      <td>422</td>\n",
       "      <td>นายอชิระ ขวัญคำ</td>\n",
       "      <td>ื81/3 หมู่ที่ 3 ซอย3 ถนนหลวง108</td>\n",
       "      <td>ต.แม่สะเรียง อ.แม่สะเรียง จ.แม่ฮ่องสอน 58110</td>\n",
       "      <td>25/09/2566</td>\n",
       "      <td>04/05</td>\n",
       "      <td>...</td>\n",
       "      <td>NaN</td>\n",
       "      <td>25660830</td>\n",
       "      <td>9000095382880</td>\n",
       "      <td>0636565686</td>\n",
       "      <td>2023-08-30</td>\n",
       "      <td>2023-09-25</td>\n",
       "      <td>26.0</td>\n",
       "      <td>-5</td>\n",
       "      <td>4</td>\n",
       "      <td>รับเอง_ขาดชำระไม่เกิน1ปี</td>\n",
       "    </tr>\n",
       "    <tr>\n",
       "      <th>3</th>\n",
       "      <td>2023-09-30</td>\n",
       "      <td>1580400169570</td>\n",
       "      <td>1</td>\n",
       "      <td>23203755</td>\n",
       "      <td>422</td>\n",
       "      <td>นายอชิระ ขวัญคำ</td>\n",
       "      <td>ื81/3 หมู่ที่ 3 ซอย3 ถนนหลวง108</td>\n",
       "      <td>ต.แม่สะเรียง อ.แม่สะเรียง จ.แม่ฮ่องสอน 58110</td>\n",
       "      <td>25/09/2566</td>\n",
       "      <td>04/05</td>\n",
       "      <td>...</td>\n",
       "      <td>NaN</td>\n",
       "      <td>25660830</td>\n",
       "      <td>9000095382880</td>\n",
       "      <td>0632544232</td>\n",
       "      <td>2023-08-30</td>\n",
       "      <td>2023-09-25</td>\n",
       "      <td>26.0</td>\n",
       "      <td>-5</td>\n",
       "      <td>4</td>\n",
       "      <td>รับเอง_ขาดชำระไม่เกิน1ปี</td>\n",
       "    </tr>\n",
       "  </tbody>\n",
       "</table>\n",
       "<p>4 rows × 22 columns</p>\n",
       "</div>"
      ],
      "text/plain": [
       "  effectivedate_CTOD    referenceid ที่  กรมธรรม์ รหัสสาขา  \\\n",
       "0         2023-10-20  5580600079640   2  21817311      422   \n",
       "1         2023-09-30  1580400169570   1  23203755      422   \n",
       "2         2023-09-30  1580400169570   1  23203755      422   \n",
       "3         2023-09-30  1580400169570   1  23203755      422   \n",
       "\n",
       "            ชื่อ-สกุล                          ที่อยู่1  \\\n",
       "0  นายสถาพร สิริมาลัย  15/11 หมู่ที่ 1 หมู่บ้านจอมกิตติ   \n",
       "1     นายอชิระ ขวัญคำ   ื81/3 หมู่ที่ 3 ซอย3 ถนนหลวง108   \n",
       "2     นายอชิระ ขวัญคำ   ื81/3 หมู่ที่ 3 ซอย3 ถนนหลวง108   \n",
       "3     นายอชิระ ขวัญคำ   ื81/3 หมู่ที่ 3 ซอย3 ถนนหลวง108   \n",
       "\n",
       "                                       ที่อยู่2 วันที่จ่ายเงิน     ปี  ...  \\\n",
       "0      ต.แม่ยวม อ.แม่สะเรียง จ.แม่ฮ่องสอน 58110     04/10/2566  14/10  ...   \n",
       "1  ต.แม่สะเรียง อ.แม่สะเรียง จ.แม่ฮ่องสอน 58110     25/09/2566  04/05  ...   \n",
       "2  ต.แม่สะเรียง อ.แม่สะเรียง จ.แม่ฮ่องสอน 58110     25/09/2566  04/05  ...   \n",
       "3  ต.แม่สะเรียง อ.แม่สะเรียง จ.แม่ฮ่องสอน 58110     25/09/2566  04/05  ...   \n",
       "\n",
       "   รับมอบฯ   duedate       personid     phoneno duedate_CTOD  \\\n",
       "0      NaN  25660924  9000000141477  0869247515   2023-09-24   \n",
       "1      NaN  25660830  9000095382880  0623097849   2023-08-30   \n",
       "2      NaN  25660830  9000095382880  0636565686   2023-08-30   \n",
       "3      NaN  25660830  9000095382880  0632544232   2023-08-30   \n",
       "\n",
       "  วันที่จ่ายเงิน_CTOD review_ขาดการชำระเบี้ย review_เคสใหม่  Rules  \\\n",
       "0          2023-10-04                   10.0            -16      4   \n",
       "1          2023-09-25                   26.0             -5      4   \n",
       "2          2023-09-25                   26.0             -5      4   \n",
       "3          2023-09-25                   26.0             -5      4   \n",
       "\n",
       "                     Remark  \n",
       "0  รับเอง_ขาดชำระไม่เกิน1ปี  \n",
       "1  รับเอง_ขาดชำระไม่เกิน1ปี  \n",
       "2  รับเอง_ขาดชำระไม่เกิน1ปี  \n",
       "3  รับเอง_ขาดชำระไม่เกิน1ปี  \n",
       "\n",
       "[4 rows x 22 columns]"
      ]
     },
     "execution_count": 38,
     "metadata": {},
     "output_type": "execute_result"
    }
   ],
   "source": [
    "# รวมไฟล์\n",
    "ORD_30day_df = pd.concat([ORD_30day_201, ORD_30day_202 ,ORD_30day_203 ,ORD_30day_204], ignore_index=True)\n",
    "ORD_30day_df"
   ]
  },
  {
   "cell_type": "code",
   "execution_count": 40,
   "metadata": {},
   "outputs": [],
   "source": [
    "now = datetime.now().strftime(\"%d%m%Y\")\n",
    "\n",
    "# แยก DataFrame ตาม Remark และจัดเรียงตามขนาดกลุ่ม\n",
    "grouped = ORD_30day_df.groupby(['Remark', 'Rules', 'รหัสสาขา'])\n",
    "sorted_groups = sorted(grouped, key=lambda x: len(x[1]))\n",
    "\n",
    "# export แบ่งไฟล์ตาม Remark\n",
    "for (remark, rules, branch_code), group in sorted_groups:\n",
    "    record_count = group.shape[0]  # นับจำนวน record หลังการแบ่งไฟล์\n",
    "    \n",
    "    file_name = f\"{rules}_30day_OPsurrenderORD_{branch_code}_{remark}_{now}_{record_count}.xlsx\"\n",
    "    file_path = os.path.join(path, file_name)\n",
    "    \n",
    "    # ส่งออก DataFrame เป็นไฟล์ Excel\n",
    "    group.to_excel(file_path, index=False)"
   ]
  },
  {
   "cell_type": "code",
   "execution_count": null,
   "metadata": {},
   "outputs": [],
   "source": []
  }
 ],
 "metadata": {
  "kernelspec": {
   "display_name": ".venv",
   "language": "python",
   "name": "python3"
  },
  "language_info": {
   "codemirror_mode": {
    "name": "ipython",
    "version": 3
   },
   "file_extension": ".py",
   "mimetype": "text/x-python",
   "name": "python",
   "nbconvert_exporter": "python",
   "pygments_lexer": "ipython3",
   "version": "3.12.4"
  }
 },
 "nbformat": 4,
 "nbformat_minor": 2
}
